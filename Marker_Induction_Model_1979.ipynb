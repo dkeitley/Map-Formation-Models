{
 "cells": [
  {
   "cell_type": "markdown",
   "metadata": {},
   "source": [
    "# Marker Induction Model (1979)"
   ]
  },
  {
   "cell_type": "markdown",
   "metadata": {},
   "source": [
    "#### Python Modules and Utility Functions"
   ]
  },
  {
   "cell_type": "code",
   "execution_count": 1,
   "metadata": {},
   "outputs": [
    {
     "name": "stderr",
     "output_type": "stream",
     "text": [
      "/home/nbuser/anaconda3_410/lib/python3.5/site-packages/matplotlib/font_manager.py:273: UserWarning: Matplotlib is building the font cache using fc-list. This may take a moment.\n",
      "  warnings.warn('Matplotlib is building the font cache using fc-list. This may take a moment.')\n",
      "/home/nbuser/anaconda3_410/lib/python3.5/site-packages/matplotlib/font_manager.py:273: UserWarning: Matplotlib is building the font cache using fc-list. This may take a moment.\n",
      "  warnings.warn('Matplotlib is building the font cache using fc-list. This may take a moment.')\n"
     ]
    }
   ],
   "source": [
    "import numpy as np \n",
    "import random as rnd \n",
    "import math\n",
    "import sys\n",
    "import matplotlib.pyplot as plt\n",
    "import numpy as np\n",
    "import scipy as sp\n",
    "from scipy import ndimage\n",
    "from matplotlib.widgets import Slider\n",
    "import matplotlib.cm as cm\n",
    "import random\n",
    "import networkx as nx\n",
    "import numpy as np\n",
    "import time\n",
    "from __future__ import print_function\n",
    "from ipywidgets import interact, interactive, fixed, IntSlider\n",
    "import ipywidgets as widgets\n",
    "%matplotlib inline\n",
    "\n",
    "def safe_div(nume,denom):\n",
    "\t''' Handles division in the case of a zero denominator. \n",
    "    \n",
    "\tParameters\n",
    "\t----------\n",
    "\tnume: ND Array\n",
    "\t\tNumerator to be divided. \n",
    "\tdenom: ND Array\n",
    "\t\tDenominator. \n",
    "\n",
    "\tReturns\n",
    "\t-------\n",
    "\tresult: ND Array\n",
    "\t\tResult of the division.  \n",
    "\t'''\n",
    "    \n",
    "\tnp.seterr(divide='ignore', invalid='ignore')\n",
    "\tresult = np.divide(nume,denom)\n",
    "\tresult[np.isnan(result)] = 0 \t# sets 0/0 = 0\n",
    "\tnp.seterr(divide='warn', invalid='warn')\n",
    "\n",
    "\treturn result\n",
    "\n",
    "\n",
    "def report_progress(i,iterations,tstart):\n",
    "\t''' Prints to screen the model progress. \n",
    "\n",
    "\tParameters\n",
    "\t----------\n",
    "\ti: int \n",
    "\t\tCurrent iteration of the model.\n",
    "\n",
    "\titerations: int \n",
    "\t\tNumber of iterations set to run. \n",
    "\n",
    "\ttstart: float \n",
    "\t\tTime of starting the model. \n",
    "\t'''\n",
    "    \n",
    "\tprogress = ((i+1)*100)/iterations\n",
    "\tt = time.time()\n",
    "\ttpassed = (t-tstart)/60\n",
    "\ttime2go = ((tpassed/progress)*100) - tpassed\n",
    "\n",
    "\tsys.stdout.write('\\r' + \"{0:.3f}\".format(progress) + \n",
    "                     \"% completed.  Time passed: {0:.3f} mins.\".format(tpassed) +  \n",
    "                     \"   Expected time left: {0:.3f} mins. \".format(time2go) )\n",
    "\tsys.stdout.flush()"
   ]
  },
  {
   "cell_type": "markdown",
   "metadata": {},
   "source": [
    "## Model Parameters"
   ]
  },
  {
   "cell_type": "code",
   "execution_count": 2,
   "metadata": {
    "collapsed": true
   },
   "outputs": [],
   "source": [
    "NUM_MARKERS = 3\n",
    "FRAME_RATE = 1\n",
    "\n",
    "DECAY_CONST = 0.006 \t \t\t\t# decay constant\n",
    "DIFF_CONST = 0.3 \t\t\t\t\t# diffusion constant\n",
    "PRE_CONC_SOURCE_CONST = 100\n",
    "\n",
    "PRE_SHEET_LEN = 20 \t\t\t\t\t# N_R in paper\n",
    "POST_SHEET_LEN = 20\t\t\t\t\t# N_T in paper\n",
    "NUM_INIT_CONTACTS = 10\t\t\t\t# n_0 in paper\n",
    "INIT_BIAS = 15\t\t\t\t\t\t# N_L in paper\n",
    "TOTAL_SYN_WEIGHT = 1\n",
    "dt = 0.5\n",
    "DIFF_ITERATIONS = 10\n",
    "STAB_THRESH = 0.001\n",
    "CONC_THRESH = 0.01 \t\t\t\t\t# epsilon in paper\n",
    "WEIGHT_UPDATE_CONST = 0.01\t\t\t# h in paper\n",
    "MEAN_SIM_CONST = 0.03\t\t\t\t# k in paper\n",
    "SPROUT_CONST = 0.01\n",
    "DISCARD_CONST = 0.005\t\n",
    "STRONG_SYN_CONST = 0.02\t\t"
   ]
  },
  {
   "cell_type": "markdown",
   "metadata": {},
   "source": [
    "## Initialisation"
   ]
  },
  {
   "cell_type": "markdown",
   "metadata": {},
   "source": [
    "#### Initialise synaptic weights"
   ]
  },
  {
   "cell_type": "code",
   "execution_count": 3,
   "metadata": {
    "collapsed": true
   },
   "outputs": [],
   "source": [
    "def gen_init_connections(cell):\n",
    "\t''' Creates randomised connections to cells within the postsynaptic\n",
    "\tchain according to the method outlined in Willshaw, von der Malsburg (1979).  \n",
    "\n",
    "\tParameters\n",
    "\t----------\n",
    "\tcell: int \n",
    "\t\tPosition of presynaptic cell. \n",
    "\n",
    "\tReturns\n",
    "\t-------\n",
    "\tweights: 1D Array\n",
    "\t\tSynaptic weights for each possible connection between the cell and\n",
    "\t\tpostsynaptic chain.\n",
    "\t'''\n",
    "\tweights = np.zeros(PRE_SHEET_LEN)\n",
    "\n",
    "\tstart = math.floor(cell*((POST_SHEET_LEN - INIT_BIAS)/PRE_SHEET_LEN)) \n",
    "\tend = start + INIT_BIAS \n",
    "\n",
    "\tif (end >POST_SHEET_LEN): \n",
    "\t\tend = POST_SHEET_LEN+1\n",
    "\n",
    "\tconnections = rnd.sample(range(start,end),NUM_INIT_CONTACTS)\n",
    "\tweights[connections] = TOTAL_SYN_WEIGHT/NUM_INIT_CONTACTS\n",
    "\n",
    "\treturn weights\n",
    "\n",
    "\n",
    "def init_syn_weights():\n",
    "\t''' Generates array containing initial randomised connections between\n",
    "\tpre and postsynaptic chain. \n",
    "\n",
    "\tReturns\n",
    "\t-------\n",
    "\tsyn_weights: 2D Array\n",
    "\t\tInitial synaptic weights between each cell in pre and postsynaptic \n",
    "\t\tchain.\t\n",
    "\n",
    "\t'''\n",
    "\tsyn_weights = np.zeros((PRE_SHEET_LEN,POST_SHEET_LEN))\n",
    "\tfor cell in range(0,PRE_SHEET_LEN):\n",
    "\t\tsyn_weights[cell,:] = gen_init_connections(cell)\n",
    "\treturn syn_weights"
   ]
  },
  {
   "cell_type": "markdown",
   "metadata": {},
   "source": [
    "#### Initialise initial marker positions"
   ]
  },
  {
   "cell_type": "code",
   "execution_count": 4,
   "metadata": {
    "collapsed": true
   },
   "outputs": [],
   "source": [
    "def init_marker_source():\n",
    "\t''' Places initial marker source in presynaptic chain. Each marker source\n",
    "\tis positioned evenly across the presynaptic chain. \n",
    "\n",
    "\tReturns\n",
    "\t-------\n",
    "\tpre_marker_source: 2D Array\n",
    "\t\tSource of each marker in each position of the presynaptic chain.  \n",
    "\t'''\n",
    "\tpre_marker_source = np.zeros((PRE_SHEET_LEN,NUM_MARKERS))\n",
    "\tpre_marker_source[1,0] = PRE_CONC_SOURCE_CONST \n",
    "\tpre_marker_source[PRE_SHEET_LEN-2,NUM_MARKERS-1] = PRE_CONC_SOURCE_CONST \n",
    "\tspacing = math.floor((PRE_SHEET_LEN-3)/(NUM_MARKERS-1))\n",
    "\n",
    "\tprev = 0\n",
    "\tm = 1\n",
    "\tfor k in range(NUM_MARKERS-2):\n",
    "\t\ti = prev + spacing\n",
    "\t\tpre_marker_source[i,m] = PRE_CONC_SOURCE_CONST \n",
    "\t\tprev = i\n",
    "\t\tm+=1\n",
    "\n",
    "\treturn pre_marker_source"
   ]
  },
  {
   "cell_type": "markdown",
   "metadata": {},
   "source": [
    "#### Collate initialised components"
   ]
  },
  {
   "cell_type": "code",
   "execution_count": 5,
   "metadata": {
    "collapsed": true
   },
   "outputs": [],
   "source": [
    "def initialise():\n",
    "\t''' Initialises components of the model. \n",
    "\n",
    "\tReturns\n",
    "\t-------\n",
    "\tsyn_weights: 2D Array\n",
    "\t\tInitial random synaptic weights between each cell in retina and tectum. \n",
    "\n",
    "\tpre_conc: 2D Array\n",
    "\t\tInitial concentrations of each marker at each position in presynaptic chain.\n",
    "\n",
    "\tpost_conc: 2D Array\n",
    "\t\tInitial concentrations of each marker at each pos in postsynaptic chain.\n",
    "\n",
    "\tpre_marker_source: 2D Array\n",
    "\t\tSource of each marker at each position in presynaptic chain. \n",
    "\n",
    "\tpost_marker_source: 2D Array\n",
    "\t\tInitial source of each marker at each position in postsynaptic chain. \n",
    "\n",
    "\t'''\n",
    "\tsyn_weights = init_syn_weights()\n",
    "\n",
    "\tpre_conc = np.zeros((PRE_SHEET_LEN,NUM_MARKERS)) \t\n",
    "\tpost_conc = np.zeros((POST_SHEET_LEN,NUM_MARKERS))\t\n",
    "\t\n",
    "\tpre_marker_source = init_marker_source()\n",
    "\tpost_marker_source = np.zeros((POST_SHEET_LEN,NUM_MARKERS))\n",
    "\n",
    "\treturn (syn_weights,pre_conc,post_conc,pre_marker_source,post_marker_source)"
   ]
  },
  {
   "cell_type": "markdown",
   "metadata": {},
   "source": [
    "#### Diffuse markers in the retina"
   ]
  },
  {
   "cell_type": "code",
   "execution_count": 6,
   "metadata": {
    "collapsed": true
   },
   "outputs": [],
   "source": [
    "def update_pre_conc(conc,marker_source):\n",
    "\t''' Applies diffusion equation to presynaptic marker concentrations.\n",
    "\n",
    "\tParameters\n",
    "\t----------\n",
    "\tconc: 2D Array \n",
    "\t\tConcentration of each marker at each position in presynaptic chain.\n",
    "\n",
    "\tmarker_source: 2D Array\n",
    "\t\tSource of each marker at each position in presynaptic chain.\n",
    "\n",
    "\tReturns\n",
    "\t-------\n",
    "\tconc: 2D Array\n",
    "\t\tNew concentrations of each marker in each presynaptic chain position. \n",
    "\n",
    "\t'''\n",
    "\n",
    "\tconc_change = np.zeros(conc.shape)\n",
    "\taverage_change = 1\n",
    "\ta = DECAY_CONST\n",
    "\td = DIFF_CONST\n",
    "\n",
    "\tconc_filter = np.array([d,(-2*d)-a,d])\n",
    "\n",
    "\twhile(average_change > STAB_THRESH):\n",
    "\t\tconc_change = sp.ndimage.convolve1d(conc, \n",
    "\t\tconc_filter,axis=0,mode='constant')\n",
    "\n",
    "\t\tconc_change[0,:] = -DECAY_CONST*conc[0,:] + DIFF_CONST*(-conc[0,:] + conc[1,:])\n",
    "\t\tx = PRE_SHEET_LEN-1\n",
    "\t\tconc_change[x,:] = -DECAY_CONST*conc[x,:] + DIFF_CONST*(conc[(x-1),:]- conc[x,:])\n",
    "\n",
    "\t\tconc_change+= marker_source \n",
    "\t\n",
    "\t\tpercent_change = safe_div(conc_change,conc) \n",
    "\t\taverage_change = np.mean(percent_change)\n",
    "\t\tconc += conc_change*dt\n",
    "\n",
    "\treturn conc"
   ]
  },
  {
   "cell_type": "markdown",
   "metadata": {},
   "source": [
    "## Model Procedure"
   ]
  },
  {
   "cell_type": "markdown",
   "metadata": {},
   "source": [
    "#### 1. Calculate induced markers in the tectum"
   ]
  },
  {
   "cell_type": "code",
   "execution_count": 7,
   "metadata": {
    "collapsed": true
   },
   "outputs": [],
   "source": [
    "def update_post_marker(syn_weights,norm_pre_conc):\n",
    "\t''' Computes source of each marker in each postsynaptic \n",
    "\tcell, induced from the presynaptic chain. \n",
    "\n",
    "\tParameters\n",
    "\t----------\n",
    "\tsyn_weights: 2D Array\n",
    "\t\tSynaptic weights between each cell in pre and postsynaptic chain. \n",
    "\n",
    "\tnorm_pre_conc: 2D Array\n",
    "\t\tNormalised concentrations of each marker in each cell of presynaptic\n",
    "\t\tchain. \n",
    "\n",
    "\tReturns\n",
    "\t-------\n",
    "\tpost_marker_source: 2D Array\n",
    "\t\tUpdated source of each marker in each cell of postsynaptic chain.\n",
    "\n",
    "\t'''\n",
    "\tpost_marker_source = np.matmul(syn_weights.T,norm_pre_conc) \n",
    "\treturn post_marker_source"
   ]
  },
  {
   "cell_type": "markdown",
   "metadata": {},
   "source": [
    "#### 2. Update marker concentrations in tectum"
   ]
  },
  {
   "cell_type": "code",
   "execution_count": 8,
   "metadata": {
    "collapsed": true
   },
   "outputs": [],
   "source": [
    "def update_post_conc(conc, marker_source):\n",
    "\t''' Applies diffusion equation to postsynaptic marker concentrations.\n",
    "\n",
    "\tParameters\n",
    "\t----------\n",
    "\tconc: 2D Array\n",
    "\t\tConcentration of each marker in each position in postsynaptic chain. \n",
    "\n",
    "\tmarker_source: 2D Array\n",
    "\t\tSource of each marker at each position in postsynaptic chain. \n",
    "\n",
    "\tReturns\n",
    "\t-------\n",
    "\tconc: 2D Array\n",
    "\t\tUpdated concentrations of each marker after diffusion across \n",
    "\t\tneighbouring cells. \n",
    "\t'''\n",
    "\tconc_change = np.zeros(conc.shape)\n",
    "    \n",
    "\ta = DECAY_CONST\n",
    "\td = DIFF_CONST\n",
    "\n",
    "\tconc_filter = np.array([d,(-2*d)-a,d])\n",
    "\n",
    "\tfor i in range(DIFF_ITERATIONS):\n",
    "\t\tconc_change = sp.ndimage.convolve1d(conc, \n",
    "\t\tconc_filter,axis=0,mode='constant')\n",
    "\n",
    "\t\tconc_change[0,:] = -DECAY_CONST*conc[0,:] + DIFF_CONST*(-conc[0,:] + conc[1,:])\n",
    "\t\tx = PRE_SHEET_LEN-1\n",
    "\t\tconc_change[x,:] = -DECAY_CONST*conc[x,:] + DIFF_CONST*(conc[(x-1),:]- conc[x,:])\n",
    "\n",
    "\t\tconc_change+= marker_source\n",
    "\n",
    "\tconc += conc_change*dt\n",
    "\treturn conc"
   ]
  },
  {
   "cell_type": "markdown",
   "metadata": {},
   "source": [
    "#### 3. Normalise tectal marker concentrations"
   ]
  },
  {
   "cell_type": "code",
   "execution_count": 9,
   "metadata": {
    "collapsed": true
   },
   "outputs": [],
   "source": [
    "def norm_conc(conc):\n",
    "\t''' Normalises marker concentrations and elimnates markers \n",
    "\twith sub-threshold concentrations. \n",
    "\n",
    "\tParameters\n",
    "\t----------\n",
    "\tconc: 2D Array\n",
    "\t\tMarker concentrations in each cell of the pre/postsynaptic chain. \n",
    "\n",
    "\tReturns\n",
    "\t-------\n",
    "\tnorm_conc: 2D Array\n",
    "\t\tNormalised concentrations of each marker in pre or postsynaptic chain. \n",
    "\n",
    "\t'''\n",
    "\tdenom = np.sum(conc,axis=1)\n",
    "\tnorm_conc = safe_div(conc.T,denom).T\n",
    "\tnorm_conc[norm_conc < CONC_THRESH] = 0\n",
    "\treturn norm_conc"
   ]
  },
  {
   "cell_type": "markdown",
   "metadata": {},
   "source": [
    "#### 4. Compute similarity between retinal and tectal cells"
   ]
  },
  {
   "cell_type": "code",
   "execution_count": 10,
   "metadata": {
    "collapsed": true
   },
   "outputs": [],
   "source": [
    "def calc_similarity(pre_conc,post_conc,x,y):\n",
    "\t''' Calculates the similarity between between two given cells. \n",
    "\tSee Willshaw, von der Malsburg (1979) for definition of similarity.\n",
    "\n",
    "\tNote: Pre and postsynaptic concentrations are normalised within the \n",
    "\tfunction so no need to pass in normalised values. \n",
    "\n",
    "\tParameters\n",
    "\t----------\n",
    "\tpre_conc: 2D Array\n",
    "\t\tConcentration of each marker at each presynaptic chain position. \n",
    "\n",
    "\tpost_conc: 2D Array\n",
    "\t\tConcentration of each marker at each postsynaptic chain position. \n",
    "\n",
    "\tx: int \n",
    "\t\tPosition of presynaptic cell. \n",
    "\n",
    "\ty: int \n",
    "\t\tPosition of postsynaptic cell. \n",
    "\n",
    "\tReturns\n",
    "\t-------\n",
    "\tsimilarity: int \n",
    "\t\tSimilarity of the two cells.  \n",
    "\t'''\n",
    "\tpre_molecules = np.nonzero(pre_conc[x,:])\t\n",
    "\tpost_molecules = np.nonzero(post_conc[y,:])\n",
    "\tcommon_molecules = np.intersect1d(pre_molecules,post_molecules)\n",
    "\n",
    "\tdenom = np.sum(pre_conc[x,common_molecules])\n",
    "\tif(denom == 0):\n",
    "\t\tnorm_pre = np.zeros((pre_conc[x,:].shape))\n",
    "\telse:\n",
    "\t\tnorm_pre = pre_conc[x,:]/denom\n",
    "\n",
    "\tdenom = np.sum(post_conc[y,common_molecules])\n",
    "\tif(denom ==0):\n",
    "\t\tnorm_post = np.zeros((post_conc[y,:].shape))\n",
    "\telse:\n",
    "\t\tnorm_post = post_conc[y,:]/denom\n",
    "\n",
    "\tnorm_pre[norm_pre < CONC_THRESH] = 0\n",
    "\tnorm_post[norm_post < CONC_THRESH] = 0\n",
    "\n",
    "\tmat = np.matrix((norm_pre,norm_post))\n",
    "\tsimilarity = np.sum(np.amin(mat,axis=0))\n",
    "\n",
    "\treturn similarity"
   ]
  },
  {
   "cell_type": "markdown",
   "metadata": {},
   "source": [
    "#### 5. Update synaptic weights"
   ]
  },
  {
   "cell_type": "code",
   "execution_count": 11,
   "metadata": {
    "collapsed": true
   },
   "outputs": [],
   "source": [
    "def update_weights(syn_weights,pre_conc,post_conc):\n",
    "\t''' Updates synaptic weights as a function of the similarity between\n",
    "\teach pre and postsynaptic cell. \n",
    "\n",
    "\tParameters\n",
    "\t----------\n",
    "\tsyn_weights: 2D Array\n",
    "\t\tSynaptic weights between each cell in pre and postsynaptic chain. \n",
    "\n",
    "\tpre_conc: 2D Array\n",
    "\t\tConcentration of each marker in each cell of the presynaptic chain.\n",
    "\n",
    "\tpost_conc: 2D Array\n",
    "\t\tConcentration of each marker in each cell of the postsynaptic chain.\n",
    "\n",
    "\tReturns\n",
    "\t-------\n",
    "\tsyn_weights: 2D Array\n",
    "\t\tUpdated synaptic weights after adjusting for marker similarities in \n",
    "\t\tpre and postsynaptic chain. \n",
    "\n",
    "\t'''\n",
    "\tweight_change = np.zeros(syn_weights.shape)\n",
    "\n",
    "\tfor x in range(0,PRE_SHEET_LEN):\n",
    "\t\tsim = np.zeros(POST_SHEET_LEN)\n",
    "\t\tfor y in range(0,POST_SHEET_LEN):\n",
    "\t\t\tsim[y] = calc_similarity(pre_conc,post_conc,x,y)\n",
    "\n",
    "\t\t(connections,) = np.nonzero(syn_weights[x,:])\n",
    "\t\tmean_sim = (np.sum(sim[connections])/len(connections)) - MEAN_SIM_CONST\n",
    "\t\tweight_change[x,:] = WEIGHT_UPDATE_CONST*(sim - mean_sim)\n",
    "\t\tsyn_weights[x,:] += weight_change[x,:]\n",
    "\n",
    "\tsyn_weights = norm_weights(syn_weights)\n",
    "\n",
    "\treturn syn_weights"
   ]
  },
  {
   "cell_type": "markdown",
   "metadata": {},
   "source": [
    "#### 6. Normalise synaptic weights"
   ]
  },
  {
   "cell_type": "code",
   "execution_count": 12,
   "metadata": {
    "collapsed": true
   },
   "outputs": [],
   "source": [
    "def norm_weights(syn_weights):\n",
    "\t''' Normalises synaptic weights so that total weight available to \n",
    "\teach fibre is constant. \n",
    "\n",
    "\tParameters\n",
    "\t----------\n",
    "\tsyn_weights: 2D Array\n",
    "\t\tSynaptic weights between each cell in pre and postsynaptic chain. \n",
    "\n",
    "\tReturns\n",
    "\t-------\n",
    "\tsyn_weights: 2D Array\n",
    "\t\tUpdated, normalised synaptic weights. \n",
    "\t'''\n",
    "\tsyn_sum = np.sum(syn_weights,axis=0)\n",
    "\tsyn_weights = np.divide(TOTAL_SYN_WEIGHT*syn_weights,syn_sum)\n",
    "\treturn syn_weights"
   ]
  },
  {
   "cell_type": "markdown",
   "metadata": {},
   "source": [
    "#### 7. Update synapses"
   ]
  },
  {
   "cell_type": "code",
   "execution_count": 13,
   "metadata": {
    "collapsed": true
   },
   "outputs": [],
   "source": [
    "# Removes weak synapses and creates new connections \n",
    "def update_connections(syn_weights):\n",
    "\t''' Removes weak synapses and creates new connections adjacent\n",
    "\tto strong synapses. \n",
    "\n",
    "\tParameters\n",
    "\t----------\n",
    "\tsyn_weights: 2D Array\n",
    "\t\tSynaptic weights between each cell in pre and postsynaptic chain. \n",
    "\n",
    "\tReturns\n",
    "\t-------\n",
    "\tnew_weights: 2D Array\n",
    "\t\tNormalised synaptic weights after removal and addition of synapses. \n",
    "\n",
    "\t'''\n",
    "\tsyn_weights[syn_weights < (DISCARD_CONST*TOTAL_SYN_WEIGHT)] = 0\n",
    "\t(xinds,yinds) = np.where(syn_weights > (STRONG_SYN_CONST*TOTAL_SYN_WEIGHT)) # finds strong syns\n",
    "\n",
    "\tfor index in range(0,len(yinds)):\n",
    "\t\tif((yinds[index]+1 < POST_SHEET_LEN)):\n",
    "\t\t\tif((syn_weights[(xinds[index],yinds[index]+1)]==0)):\n",
    "\t\t\t\tsyn_weights[(xinds[index],yinds[index]+1)] = SPROUT_CONST*TOTAL_SYN_WEIGHT\n",
    "\t\tif(yinds[index]-1 >= 0):\n",
    "\t\t\tif(syn_weights[(xinds[index],yinds[index]-1)]==0):\n",
    "\t\t\t\tsyn_weights[(xinds[index],yinds[index]-1)] = SPROUT_CONST*TOTAL_SYN_WEIGHT\n",
    "\tnew_weights = norm_weights(syn_weights)\n",
    "\treturn new_weights"
   ]
  },
  {
   "cell_type": "markdown",
   "metadata": {},
   "source": [
    "## Running the Model Simulation"
   ]
  },
  {
   "cell_type": "code",
   "execution_count": null,
   "metadata": {
    "collapsed": true
   },
   "outputs": [],
   "source": [
    "def run(iterations):\n",
    "\t''' Runs simulation of Marker Model. \n",
    "\n",
    "\tEach simulation cycle consists of:\n",
    "\t1) Updating synaptic weights\n",
    "\t2) Adding/removing synapses\n",
    "\t3) Updating marker sources in postsynaptic chain\n",
    "\t4) Updating marker concentrations in postsynaptic chain\n",
    "\t\n",
    "\tParameters\n",
    "\t----------\n",
    "\titerations: int \n",
    "\t\tNumber of iterations to simulate model. \n",
    "\t'''\n",
    "\n",
    "\tprint(\"Running Marker Induction Model (1979)...\")\n",
    "\ttstart = time.time()\n",
    "\tparams = initialise()\n",
    "\t(syn_weights,pre_conc,post_conc,pre_marker_source,post_marker_source) = params\n",
    "\titer_weights = np.zeros((math.floor(iterations/FRAME_RATE),PRE_SHEET_LEN,POST_SHEET_LEN))\n",
    "\titer_weights[0,:,:] = syn_weights\n",
    "\n",
    "\tpre_conc = update_pre_conc(pre_conc,pre_marker_source)\n",
    "\tpre_conc = norm_conc(pre_conc)\n",
    "\n",
    "\tfor i in range(iterations):\n",
    "\t\tpost_marker_source = update_post_marker(syn_weights,pre_conc)\n",
    "\t\tpost_conc = update_post_conc(post_conc,post_marker_source)\n",
    "\t\tpost_conc = norm_conc(post_conc)\n",
    "\t\tsyn_weights = update_weights(syn_weights,pre_conc,post_conc)\n",
    "\t\tsyn_weights = update_connections(syn_weights)\n",
    "\n",
    "\t\tif(i%FRAME_RATE == 0):\n",
    "\t\t\titer_weights[math.floor(i/FRAME_RATE),:,:] = syn_weights\n",
    "\t\treport_progress(i,iterations,tstart)\n",
    "        \n",
    "\treturn iter_weights"
   ]
  },
  {
   "cell_type": "code",
   "execution_count": null,
   "metadata": {},
   "outputs": [
    {
     "name": "stdout",
     "output_type": "stream",
     "text": [
      "Running Marker Induction Model (1979)...\n",
      "100.000% completed.  Time passed: 1.475 mins.   Expected time left: 0.000 mins. "
     ]
    }
   ],
   "source": [
    "iter_weights = run(2000)"
   ]
  },
  {
   "cell_type": "markdown",
   "metadata": {},
   "source": [
    "## Visualing the Retinotopic Map"
   ]
  },
  {
   "cell_type": "markdown",
   "metadata": {},
   "source": [
    "#### Synapse distribution Plot"
   ]
  },
  {
   "cell_type": "code",
   "execution_count": 26,
   "metadata": {
    "collapsed": true
   },
   "outputs": [],
   "source": [
    "def plot_iteration(syn_weights):\n",
    "\t''' Displays synapses between between neurons in pre- and\n",
    "\tpostsynaptic chain. The strength of each synapse is \n",
    "\tindicated by the size of its marker. \n",
    "\n",
    "\tParameters\n",
    "\t----------\n",
    "\tsyn_weights: 2D Array\n",
    "\t\tSynaptic weights between each cell in pre and postsynaptic chain. \n",
    "\t'''\n",
    "    \n",
    "\tfor i in range(PRE_SHEET_LEN):\n",
    "\t\t(syns,) = np.nonzero(syn_weights[i,:])\n",
    "\t\tsize = syn_weights[i,syns]*100\n",
    "\t\tplt.scatter([i+1 for j in range(len(syns))],syns+1,s=size,c='k')\n",
    "\n",
    "\tplt.xlim([0,PRE_SHEET_LEN+1])\n",
    "\tplt.ylim([0,POST_SHEET_LEN+1])\n",
    "\tplt.xlabel('Presynaptic Cell Number')\n",
    "\tplt.ylabel('Postsynaptic Cell Number')\n",
    "\tplt.show()\n",
    "\n",
    "\n",
    "def update_dist(val):\n",
    "\t''' Updates distribution plot to display synapses at a given\n",
    "\titeration of the model simulation.\n",
    "\n",
    "\tParameters\n",
    "\t----------\n",
    "\tval: int\n",
    "\t\tIteration to display synapse distribution.\n",
    "\t'''\n",
    "\tplt.axes().set_aspect('equal')\n",
    "\tval = int(val/FRAME_RATE)\n",
    "\tsyn_weights = weights[val,:,:]\n",
    "\tplot_iteration(syn_weights)\n",
    "\n",
    "\n",
    "def plot_dist(iws):\n",
    "    ''' Sets up the figure and iteration slider for a synapse distribution\n",
    "    plot. \n",
    "    \n",
    "    Parameters\n",
    "    ----------\n",
    "    iws: 3D Array\n",
    "        Synaptic weights between each pre- and postsynaptic neuron at\n",
    "        each frame of the model simulation.\n",
    "    '''\n",
    "    global weights\n",
    "    plt.figure()\n",
    "    weights = iws\n",
    "    interact(update_dist,val=IntSlider(min=0,\n",
    "    max=len(weights[:,0,0])*FRAME_RATE -1,\n",
    "    step=1,description=\"Iteration: \"))\n"
   ]
  },
  {
   "cell_type": "code",
   "execution_count": 27,
   "metadata": {},
   "outputs": [
    {
     "data": {
      "text/plain": [
       "<matplotlib.figure.Figure at 0x7fca8ca38f98>"
      ]
     },
     "metadata": {},
     "output_type": "display_data"
    },
    {
     "data": {
      "application/vnd.jupyter.widget-view+json": {
       "model_id": "74053fcc5db745b8996289f12795de4c",
       "version_major": 2,
       "version_minor": 0
      },
      "text/plain": [
       "A Jupyter Widget"
      ]
     },
     "metadata": {},
     "output_type": "display_data"
    }
   ],
   "source": [
    "plot_dist(iter_weights[:,:,:])"
   ]
  },
  {
   "cell_type": "markdown",
   "metadata": {},
   "source": [
    "#### Connection Network Plot"
   ]
  },
  {
   "cell_type": "code",
   "execution_count": 28,
   "metadata": {
    "collapsed": true
   },
   "outputs": [],
   "source": [
    "def create_connections(syn_weights):\n",
    "\t''' Draws the connections between pre- and postsynaptic neurons. \n",
    "\tThe synaptic weight of a connection is proportional to\n",
    "\tits line thickness. \n",
    "\n",
    "\tParameters\n",
    "\t----------\n",
    "\tsyn_weights: 2D Array\n",
    "\t\tSynaptic weights between each cell in pre and postsynaptic chain. \n",
    "\t'''\n",
    "    \n",
    "\tfor x in range(0,PRE_SHEET_LEN):\n",
    "\t\t(connections,) = np.nonzero(syn_weights[x,:])\n",
    "\t\tnodes = connections + PRE_SHEET_LEN\n",
    "\t\tB.add_weighted_edges_from([(x,y,syn_weights[x,y-PRE_SHEET_LEN]*4) for y in nodes])\n",
    "\t\tweights = [B[u][v]['weight'] for u,v in B.edges()]\n",
    "\t\tnx.draw(B, pos=pos,ax=plt.gca(),width=weights)\n",
    "\tax = plt.gca()\n",
    "\tax.text(-0.3,0.85,s=\"Presynaptic Chain\")\n",
    "\tax.text(-0.3,2.1,s=\"Postsynaptic Chain\")\n",
    "\tplt.show()\n",
    "\n",
    "\n",
    "def update_con_plot(val):\n",
    "\t''' Updates connection graph with syanptic weights at a\n",
    "\tgiven iteration of the model simulation. \n",
    "\n",
    "\tParameters\n",
    "\t----------\n",
    "\tval: int\n",
    "\t\tIteration to display synaptic connections. \n",
    "\t'''\n",
    "    \n",
    "\tcurrent_val = int(val/FRAME_RATE)\n",
    "\n",
    "\tB.clear()\n",
    "\tplt.figure(figsize=(17,6))\n",
    "\n",
    "\tB.add_nodes_from(set1, bipartite=0) \n",
    "\tB.add_nodes_from(set2, bipartite=1)\n",
    "\n",
    "\tpos = {}\n",
    "\tpos.update((node, (index-2, 1)) for index, node in enumerate(set1))\n",
    "\tpos.update((node, (index-2, 2)) for index, node in enumerate(set2))\n",
    "\n",
    "\tsyn_weights = weights[current_val,:,:]\n",
    "\tcreate_connections(syn_weights)\n",
    "\t\n",
    "    \n",
    "def plot_connections(iws):\n",
    "    ''' Sets up networkx graph with an iteration slider \n",
    "    to display the synaptic connections between neurons. \n",
    "    \n",
    "    Parameters\n",
    "    ----------\n",
    "    iws: 3D Array\n",
    "        Synaptic weights between each pre- and postsynaptic neuron at\n",
    "        each frame of the model simulation.\n",
    "    '''\n",
    "    \n",
    "    global B, pos, ax, set1, set2, weights, widths\n",
    "    fig = plt.figure()\n",
    "    weights = iws\n",
    "    widths = []\n",
    "    \n",
    "    B = nx.Graph()\n",
    "    set1 = range(PRE_SHEET_LEN)\n",
    "    set2 = range(PRE_SHEET_LEN,PRE_SHEET_LEN + POST_SHEET_LEN)\n",
    "\n",
    "    B.add_nodes_from(set1, bipartite=0) \n",
    "    B.add_nodes_from(set2, bipartite=1)\n",
    "\n",
    "    pos = {}\n",
    "    pos.update((node, (index-2, 1)) for index, node in enumerate(set1))\n",
    "    pos.update((node, (index-2, 2)) for index, node in enumerate(set2))\n",
    "    \n",
    "    current_val = 0\n",
    "    syn_weights = weights[current_val,:,:]\n",
    "    \n",
    "    interact(update_con_plot,val=IntSlider(min=0,\n",
    "    max=len(weights[:,0,0])*FRAME_RATE -1,\n",
    "    step=1,description=\"Iteration: \"))"
   ]
  },
  {
   "cell_type": "code",
   "execution_count": 29,
   "metadata": {},
   "outputs": [
    {
     "data": {
      "text/plain": [
       "<matplotlib.figure.Figure at 0x7fca8cceeef0>"
      ]
     },
     "metadata": {},
     "output_type": "display_data"
    },
    {
     "data": {
      "application/vnd.jupyter.widget-view+json": {
       "model_id": "a91dcd92f4454b2a8110c4740960dc1a",
       "version_major": 2,
       "version_minor": 0
      },
      "text/plain": [
       "A Jupyter Widget"
      ]
     },
     "metadata": {},
     "output_type": "display_data"
    }
   ],
   "source": [
    "plot_connections(iter_weights[:,:,:])"
   ]
  },
  {
   "cell_type": "code",
   "execution_count": null,
   "metadata": {
    "collapsed": true
   },
   "outputs": [],
   "source": []
  }
 ],
 "metadata": {
  "kernelspec": {
   "display_name": "Python 3",
   "language": "python",
   "name": "python3"
  },
  "language_info": {
   "codemirror_mode": {
    "name": "ipython",
    "version": 3
   },
   "file_extension": ".py",
   "mimetype": "text/x-python",
   "name": "python",
   "nbconvert_exporter": "python",
   "pygments_lexer": "ipython3",
   "version": "3.5.1"
  }
 },
 "nbformat": 4,
 "nbformat_minor": 2
}
