{
 "cells": [
  {
   "cell_type": "code",
   "execution_count": null,
   "metadata": {
    "scrolled": false
   },
   "outputs": [],
   "source": []
  },
  {
   "cell_type": "code",
   "execution_count": 215,
   "metadata": {},
   "outputs": [
    {
     "data": {
      "text/plain": [
       "report_progress (generic function with 1 method)"
      ]
     },
     "execution_count": 215,
     "metadata": {},
     "output_type": "execute_result"
    }
   ],
   "source": [
    "using PyPlot;\n",
    "using ImageFiltering; \n",
    "using FFTViews;\n",
    "\n",
    "function safe_div(nume,denom)\n",
    "\t\"\"\" Handles division in the case of a zero denominator. \n",
    "    \n",
    "\tParameters\n",
    "\t----------\n",
    "\tnume: ND Array\n",
    "\t\tNumerator to be divided. \n",
    "\tdenom: ND Array\n",
    "\t\tDenominator. \n",
    "\n",
    "\tReturns\n",
    "\t-------\n",
    "\tresult: ND Array\n",
    "\t\tResult of the division.  \n",
    "\t\"\"\"\n",
    "    \n",
    "\tresult = nume./denom\n",
    "\tresult[isnan(result)] = 0 \n",
    "\n",
    "\treturn result\n",
    "end\n",
    "\n",
    "\n",
    "function convolution(conc,conc_filter):\n",
    "\t\"\"\" Replicates the Python sp.ndimage.convolve1d function.\n",
    "    \n",
    "\tParameters\n",
    "\t----------\n",
    "\tconc: 1D Array\n",
    "\t\tInput vector to be convoluted. \n",
    "\tconc_filter: 1D Array\n",
    "\t\tConvolution filter.\n",
    "    \n",
    "\tReturns\n",
    "\t-------\n",
    "\tout: 1D Array\n",
    "\t\tResult of the convolution. \n",
    "\t\"\"\"\n",
    "    \n",
    "\tn=length(conc)\n",
    "\tm=length(conc_filter)\n",
    "\n",
    "\tpadleft=ceil(Int32,m/2)-1\n",
    "\tpadright=floor(Int32,m/2)\n",
    "\n",
    "\tconc =append!(zeros(padleft),conc)\n",
    "\tconc = append!(conc,zeros(padright))\n",
    "\tout = zeros(n)\n",
    "    \n",
    "\tfor i in 1:n\n",
    "\t\tfor j in 1:m\n",
    "\t\t\tout[i] += conc[i+j-1]*conc_filter[m-j+1]\n",
    "\t\tend\n",
    "\tend\n",
    "\treturn out\n",
    "end\n",
    "\n",
    "\n",
    "function report_progress(i::Int,iterations::Int,tstart::Float64)\n",
    "\t\"\"\" Prints to screen the model progress. \n",
    "\n",
    "\tParameters\n",
    "\t----------\n",
    "\ti: int \n",
    "\t\tCurrent iteration of the model.\n",
    "\n",
    "\titerations: int \n",
    "\t\tNumber of iterations set to run. \n",
    "\n",
    "\ttstart: float \n",
    "\t\tTime of starting the model. \n",
    "\t\"\"\"\n",
    "    \n",
    "\tprogress = ((i)*100)/iterations\n",
    "\tt = time()\n",
    "\ttpassed = (t-tstart)/60\n",
    "\ttime2go = ((tpassed/progress)*100) - tpassed\n",
    "\tprint(\"$(@sprintf(\"%.3f\",progress))% completed.  Time passed: $(@sprintf(\"%.3f\",tpassed)) mins.    Expected time left: $(@sprintf(\"%.3f\",time2go))  \\r\")\n",
    "\tflush(STDOUT)\n",
    "end"
   ]
  },
  {
   "cell_type": "code",
   "execution_count": 236,
   "metadata": {},
   "outputs": [],
   "source": [
    "const NUM_MARKERS = 3\n",
    "const FRAME_RATE = 1\n",
    "\n",
    "const DECAY_CONST = 0.006 \t \t\t\t# decay constant\n",
    "const DIFF_CONST = 0.3 \t\t\t\t\t# diffusion constant\n",
    "const PRE_CONC_SOURCE_CONST = 100\n",
    "\n",
    "const PRE_SHEET_LEN = 20 \t\t\t\t\t# N_R in paper\n",
    "const POST_SHEET_LEN = 20\t\t\t\t\t# N_T in paper\n",
    "const NUM_INIT_CONTACTS = 10\t\t\t\t# n_0 in paper\n",
    "const INIT_BIAS = 15\t\t\t\t\t\t# N_L in paper\n",
    "const TOTAL_SYN_WEIGHT = 1\n",
    "const dt = 0.5\n",
    "const DIFF_ITERATIONS = 10\n",
    "const STAB_THRESH = 0.001\n",
    "const CONC_THRESH = 0.01 \t\t\t\t\t# epsilon in paper\n",
    "const WEIGHT_UPDATE_CONST = 0.01\t\t\t# h in paper\n",
    "const MEAN_SIM_CONST = 0.03\t\t\t\t# k in paper\n",
    "const SPROUT_CONST = 0.01\n",
    "const DISCARD_CONST = 0.005\t\n",
    "const STRONG_SYN_CONST = 0.02;\t\t"
   ]
  },
  {
   "cell_type": "code",
   "execution_count": 237,
   "metadata": {},
   "outputs": [
    {
     "data": {
      "text/plain": [
       "init_syn_weights (generic function with 1 method)"
      ]
     },
     "execution_count": 237,
     "metadata": {},
     "output_type": "execute_result"
    }
   ],
   "source": [
    "function gen_init_connections(cell::Int)\n",
    "\t\"\"\" Creates randomised connections to cells within the postsynaptic\n",
    "\tchain according to the method outlined in Willshaw, von der Malsburg (1979).  \n",
    "\n",
    "\tParameters\n",
    "\t----------\n",
    "\tcell: int \n",
    "\t\tPosition of presynaptic cell. \n",
    "\n",
    "\tReturns\n",
    "\t-------\n",
    "\tweights: 1D Array\n",
    "\t\tSynaptic weights for each possible connection between the cell and\n",
    "\t\tpostsynaptic chain.\n",
    "\t\"\"\"\n",
    "\tweights = zeros(PRE_SHEET_LEN)\n",
    "\n",
    "\tstart = ceil(Int64,cell*((POST_SHEET_LEN - INIT_BIAS)/PRE_SHEET_LEN)) \n",
    "\tlast = floor(Int64,start + INIT_BIAS)\n",
    "\n",
    "\tif (last >POST_SHEET_LEN) \n",
    "\t\tlast = POST_SHEET_LEN\n",
    "\tend\n",
    "\n",
    "\tconnections = rand(start:last,NUM_INIT_CONTACTS)\n",
    "\tweights[connections] = TOTAL_SYN_WEIGHT/NUM_INIT_CONTACTS\n",
    "\n",
    "\treturn weights\n",
    "end\n",
    "\n",
    "\n",
    "function init_syn_weights()\n",
    "\t\"\"\" Generates array containing initial randomised connections between\n",
    "\tpre and postsynaptic chain. \n",
    "\n",
    "\tReturns\n",
    "\t-------\n",
    "\tsyn_weights: 2D Array\n",
    "\t\tInitial synaptic weights between each cell in pre and postsynaptic \n",
    "\t\tchain.\t\n",
    "\n",
    "\t\"\"\"\n",
    "\tsyn_weights = zeros((PRE_SHEET_LEN,POST_SHEET_LEN))\n",
    "\tfor cell in 1:PRE_SHEET_LEN\n",
    "\t\tsyn_weights[cell,:] = gen_init_connections(cell)\n",
    "\tend   \n",
    "    \n",
    "\treturn syn_weights\n",
    "end"
   ]
  },
  {
   "cell_type": "code",
   "execution_count": 238,
   "metadata": {},
   "outputs": [
    {
     "data": {
      "text/plain": [
       "init_marker_source (generic function with 1 method)"
      ]
     },
     "execution_count": 238,
     "metadata": {},
     "output_type": "execute_result"
    }
   ],
   "source": [
    "function init_marker_source()\n",
    "\t\"\"\" Places initial marker source in presynaptic chain. Each marker source\n",
    "\tis positioned evenly across the presynaptic chain. \n",
    "\n",
    "\tReturns\n",
    "\t-------\n",
    "\tpre_marker_source: 2D Array\n",
    "\t\tSource of each marker in each position of the presynaptic chain.  \n",
    "\t\"\"\"\n",
    "\tpre_marker_source = zeros((PRE_SHEET_LEN,NUM_MARKERS))\n",
    "\tpre_marker_source[2,1] = PRE_CONC_SOURCE_CONST \n",
    "\tpre_marker_source[PRE_SHEET_LEN-1,NUM_MARKERS] = PRE_CONC_SOURCE_CONST \n",
    "\tspacing = floor(Int64,(PRE_SHEET_LEN-2)/(NUM_MARKERS))\n",
    "\n",
    "\tprev = 0\n",
    "\tm = 1\n",
    "\tfor k =1:(NUM_MARKERS-2)\n",
    "\t\ti = prev + spacing\n",
    "\t\tpre_marker_source[i,m] = PRE_CONC_SOURCE_CONST \n",
    "\t\tprev = i\n",
    "\t\tm+=1\n",
    "\tend\n",
    "\treturn pre_marker_source\n",
    "end"
   ]
  },
  {
   "cell_type": "code",
   "execution_count": 239,
   "metadata": {},
   "outputs": [
    {
     "data": {
      "text/plain": [
       "initialise (generic function with 1 method)"
      ]
     },
     "execution_count": 239,
     "metadata": {},
     "output_type": "execute_result"
    }
   ],
   "source": [
    "function initialise():\n",
    "\t\"\"\" Initialises components of the model. \n",
    "\n",
    "\tReturns\n",
    "\t-------\n",
    "\tsyn_weights: 2D Array\n",
    "\t\tInitial random synaptic weights between each cell in retina and tectum. \n",
    "\n",
    "\tpre_conc: 2D Array\n",
    "\t\tInitial concentrations of each marker at each position in presynaptic chain.\n",
    "\n",
    "\tpost_conc: 2D Array\n",
    "\t\tInitial concentrations of each marker at each pos in postsynaptic chain.\n",
    "\n",
    "\tpre_marker_source: 2D Array\n",
    "\t\tSource of each marker at each position in presynaptic chain. \n",
    "\n",
    "\tpost_marker_source: 2D Array\n",
    "\t\tInitial source of each marker at each position in postsynaptic chain. \n",
    "\n",
    "\t\"\"\"\n",
    "\tsyn_weights = init_syn_weights()\n",
    "\n",
    "\tpre_conc = zeros((PRE_SHEET_LEN,NUM_MARKERS)) \t\n",
    "\tpost_conc = zeros((POST_SHEET_LEN,NUM_MARKERS))\t\n",
    "\t\n",
    "\tpre_marker_source = init_marker_source()\n",
    "\tpost_marker_source = zeros((POST_SHEET_LEN,NUM_MARKERS))\n",
    "\n",
    "\treturn (syn_weights,pre_conc,post_conc,pre_marker_source,post_marker_source)\n",
    "end"
   ]
  },
  {
   "cell_type": "code",
   "execution_count": 240,
   "metadata": {},
   "outputs": [
    {
     "data": {
      "text/plain": [
       "update_pre_conc (generic function with 1 method)"
      ]
     },
     "execution_count": 240,
     "metadata": {},
     "output_type": "execute_result"
    }
   ],
   "source": [
    "function update_pre_conc(conc,marker_source)\n",
    "\t\"\"\" Applies diffusion equation to presynaptic marker concentrations.\n",
    "\n",
    "\tParameters\n",
    "\t----------\n",
    "\tconc: 2D Array \n",
    "\t\tConcentration of each marker at each position in presynaptic chain.\n",
    "\n",
    "\tmarker_source: 2D Array\n",
    "\t\tSource of each marker at each position in presynaptic chain.\n",
    "\n",
    "\tReturns\n",
    "\t-------\n",
    "\tconc: 2D Array\n",
    "\t\tNew concentrations of each marker in each presynaptic chain position. \n",
    "\n",
    "\t\"\"\"\n",
    "\tconc_change = zeros(size(conc))\n",
    "\taverage_change = 1\n",
    "\ta = DECAY_CONST\n",
    "\td = DIFF_CONST\n",
    "\n",
    "\tconc_filter = [d,(-2*d)-a,d]\n",
    "\n",
    "\twhile(average_change > STAB_THRESH)\n",
    "\t\tfor i in 1:NUM_MARKERS\n",
    "\t\t\tconc_change[:,i] = convolution(conc[:,i],conc_filter)\n",
    "\t\tend\n",
    "\t\tconc_change[1,:] = -DECAY_CONST*conc[1,:] + DIFF_CONST*(-conc[1,:] + conc[2,:])\n",
    " \t\tx = PRE_SHEET_LEN\n",
    "\t\tconc_change[x,:] = -DECAY_CONST*conc[x,:] + DIFF_CONST*(conc[(x-1),:]- conc[x,:])\n",
    "\t\tconc_change+= marker_source \n",
    "\t\tpercent_change = safe_div(conc_change,conc) \n",
    "\t\taverage_change = mean(percent_change)\n",
    "\t\tconc += conc_change*dt\n",
    "\tend\n",
    "\treturn conc\n",
    "end"
   ]
  },
  {
   "cell_type": "code",
   "execution_count": 241,
   "metadata": {},
   "outputs": [
    {
     "data": {
      "text/plain": [
       "update_post_marker (generic function with 1 method)"
      ]
     },
     "execution_count": 241,
     "metadata": {},
     "output_type": "execute_result"
    }
   ],
   "source": [
    "function update_post_marker(syn_weights,norm_pre_conc)\n",
    "\t\"\"\" Computes source of each marker in each postsynaptic \n",
    "\tcell, induced from the presynaptic chain. \n",
    "\n",
    "\tParameters\n",
    "\t----------\n",
    "\tsyn_weights: 2D Array\n",
    "\t\tSynaptic weights between each cell in pre and postsynaptic chain. \n",
    "\n",
    "\tnorm_pre_conc: 2D Array\n",
    "\t\tNormalised concentrations of each marker in each cell of presynaptic\n",
    "\t\tchain. \n",
    "\n",
    "\tReturns\n",
    "\t-------\n",
    "\tpost_marker_source: 2D Array\n",
    "\t\tUpdated source of each marker in each cell of postsynaptic chain.\n",
    "\n",
    "\t\"\"\"\n",
    "\tpost_marker_source = transpose(syn_weights)*norm_pre_conc \n",
    "\treturn post_marker_source\n",
    "end"
   ]
  },
  {
   "cell_type": "code",
   "execution_count": 242,
   "metadata": {},
   "outputs": [
    {
     "data": {
      "text/plain": [
       "update_post_conc (generic function with 1 method)"
      ]
     },
     "execution_count": 242,
     "metadata": {},
     "output_type": "execute_result"
    }
   ],
   "source": [
    "function update_post_conc(conc, marker_source)\n",
    "\t\"\"\" Applies diffusion equation to postsynaptic marker concentrations.\n",
    "\n",
    "\tParameters\n",
    "\t----------\n",
    "\tconc: 2D Array\n",
    "\t\tConcentration of each marker in each position in postsynaptic chain. \n",
    "\n",
    "\tmarker_source: 2D Array\n",
    "\t\tSource of each marker at each position in postsynaptic chain. \n",
    "\n",
    "\tReturns\n",
    "\t-------\n",
    "\tconc: 2D Array\n",
    "\t\tUpdated concentrations of each marker after diffusion across \n",
    "\t\tneighbouring cells. \n",
    "\t\"\"\"\n",
    "\tconc_change = zeros(conc)\n",
    "    \n",
    "\ta = DECAY_CONST\n",
    "\td = DIFF_CONST\n",
    "\n",
    "\tconc_filter = [d,(-2*d)-a,d]\n",
    "\n",
    "\tfor i in 1:DIFF_ITERATIONS\n",
    "\t\tfor i in 1:NUM_MARKERS \n",
    "\t\t\tconc_change[:,i] = convolution(conc[:,i],conc_filter)\n",
    "\t\tend\n",
    "\t\tconc_change+= marker_source\n",
    "\tend\n",
    "\tconc += conc_change*dt\n",
    "\treturn conc\n",
    "end"
   ]
  },
  {
   "cell_type": "code",
   "execution_count": 243,
   "metadata": {},
   "outputs": [
    {
     "data": {
      "text/plain": [
       "norm_conc (generic function with 1 method)"
      ]
     },
     "execution_count": 243,
     "metadata": {},
     "output_type": "execute_result"
    }
   ],
   "source": [
    "function norm_conc(conc):\n",
    "\t\"\"\" Normalises marker concentrations and elimnates markers \n",
    "\twith sub-threshold concentrations. \n",
    "\n",
    "\tParameters\n",
    "\t----------\n",
    "\tconc: 2D Array\n",
    "\t\tMarker concentrations in each cell of the pre/postsynaptic chain. \n",
    "\n",
    "\tReturns\n",
    "\t-------\n",
    "\tnorm_conc: 2D Array\n",
    "\t\tNormalised concentrations of each marker in pre or postsynaptic chain. \n",
    "\n",
    "\t\"\"\"\n",
    "\tnew_conc = zeros(length(conc[:,1]),NUM_MARKERS)\n",
    "\tdenom = sum(conc,2)\n",
    "\tfor i in 1:NUM_MARKERS\n",
    "\t\tnew_conc[:,i] = transpose(safe_div(transpose(conc)[i,:],denom[:,1]))\n",
    "\tend\n",
    "\tnew_conc[find(x -> x < CONC_THRESH, new_conc)] = 0\n",
    "\treturn new_conc\n",
    "end"
   ]
  },
  {
   "cell_type": "code",
   "execution_count": 244,
   "metadata": {},
   "outputs": [
    {
     "data": {
      "text/plain": [
       "calc_similarity (generic function with 1 method)"
      ]
     },
     "execution_count": 244,
     "metadata": {},
     "output_type": "execute_result"
    }
   ],
   "source": [
    "function calc_similarity(pre_conc,post_conc,x,y)\n",
    "\t\"\"\" Calculates the similarity between between two given cells. \n",
    "\tSee Willshaw, von der Malsburg (1979) for definition of similarity.\n",
    "\n",
    "\tNote: Pre and postsynaptic concentrations are normalised within the \n",
    "\tfunction so no need to pass in normalised values. \n",
    "\n",
    "\tParameters\n",
    "\t----------\n",
    "\tpre_conc: 2D Array\n",
    "\t\tConcentration of each marker at each presynaptic chain position. \n",
    "\n",
    "\tpost_conc: 2D Array\n",
    "\t\tConcentration of each marker at each postsynaptic chain position. \n",
    "\n",
    "\tx: int \n",
    "\t\tPosition of presynaptic cell. \n",
    "\n",
    "\ty: int \n",
    "\t\tPosition of postsynaptic cell. \n",
    "\n",
    "\tReturns\n",
    "\t-------\n",
    "\tsimilarity: int \n",
    "\t\tSimilarity of the two cells.  \n",
    "\t\"\"\"\n",
    "\tpre_molecules = find(item -> item != 0,pre_conc[x,:])\n",
    "\tpost_molecules = find(item -> item != 0,post_conc[y,:])\n",
    "\tcommon_molecules = intersect(pre_molecules,post_molecules) # fine\n",
    "\n",
    "\tdenom = sum(pre_conc[x,common_molecules])\n",
    "\tif(denom == 0)\n",
    "\t\tnorm_pre = zeros(size(pre_conc[x,:]))\n",
    "\telse\n",
    "\t\tnorm_pre = pre_conc[x,:]/denom #fine\n",
    "\tend\n",
    "\n",
    "\tdenom = sum(post_conc[y,common_molecules])\n",
    "\tif(denom ==0)\n",
    "\t\tnorm_post = zeros(size(post_conc[y,:]))\n",
    "\telse\n",
    "\t\tnorm_post = post_conc[y,:]/denom\n",
    "\tend\n",
    "\n",
    "\tnorm_pre[find(item -> item < CONC_THRESH,norm_pre)] = 0\n",
    "\tnorm_post[find(item -> item < CONC_THRESH, norm_post )] = 0  \n",
    "\n",
    "\tmat = hcat(norm_pre,norm_post)'\n",
    "\tsimilarity = sum(minimum(mat,1))\n",
    "\n",
    "\treturn similarity\n",
    "end"
   ]
  },
  {
   "cell_type": "code",
   "execution_count": 245,
   "metadata": {},
   "outputs": [
    {
     "data": {
      "text/plain": [
       "update_weights (generic function with 1 method)"
      ]
     },
     "execution_count": 245,
     "metadata": {},
     "output_type": "execute_result"
    }
   ],
   "source": [
    "function update_weights(syn_weights,pre_conc,post_conc)\n",
    "\t\"\"\" Updates synaptic weights as a function of the similarity between\n",
    "\teach pre and postsynaptic cell. \n",
    "\n",
    "\tParameters\n",
    "\t----------\n",
    "\tsyn_weights: 2D Array\n",
    "\t\tSynaptic weights between each cell in pre and postsynaptic chain. \n",
    "\n",
    "\tpre_conc: 2D Array\n",
    "\t\tConcentration of each marker in each cell of the presynaptic chain.\n",
    "\n",
    "\tpost_conc: 2D Array\n",
    "\t\tConcentration of each marker in each cell of the postsynaptic chain.\n",
    "\n",
    "\tReturns\n",
    "\t-------\n",
    "\tsyn_weights: 2D Array\n",
    "\t\tUpdated synaptic weights after adjusting for marker similarities in \n",
    "\t\tpre and postsynaptic chain. \n",
    "\n",
    "\t\"\"\"\n",
    "\tweight_change = zeros(size(syn_weights))\n",
    "\n",
    "\tfor x in 1:PRE_SHEET_LEN\n",
    "\t\tsim = zeros(POST_SHEET_LEN)\n",
    "\t\tfor y in 1:POST_SHEET_LEN\n",
    "\t\t\tsim[y] = calc_similarity(pre_conc,post_conc,x,y)\n",
    "\t\tend\n",
    "      \n",
    "\t\tconnections = find(item -> item != 0,syn_weights[x,:])\n",
    "\t\tmean_sim = (sum(sim[connections])/length(connections)) - MEAN_SIM_CONST\n",
    "\t\tweight_change[x,:] = WEIGHT_UPDATE_CONST*(sim - mean_sim)\n",
    "\t\tsyn_weights[x,:] += weight_change[x,:]\n",
    "\tend\n",
    "    \n",
    "\tsyn_weights = norm_weights(syn_weights)\n",
    "\n",
    "\treturn syn_weights\n",
    "end"
   ]
  },
  {
   "cell_type": "code",
   "execution_count": 246,
   "metadata": {},
   "outputs": [
    {
     "data": {
      "text/plain": [
       "norm_weights (generic function with 1 method)"
      ]
     },
     "execution_count": 246,
     "metadata": {},
     "output_type": "execute_result"
    }
   ],
   "source": [
    "function norm_weights(syn_weights)\n",
    "\t\"\"\" Normalises synaptic weights so that total weight available to \n",
    "\teach fibre is constant. \n",
    "\n",
    "\tParameters\n",
    "\t----------\n",
    "\tsyn_weights: 2D Array\n",
    "\t\tSynaptic weights between each cell in pre and postsynaptic chain. \n",
    "\n",
    "\tReturns\n",
    "\t-------\n",
    "\tsyn_weights: 2D Array\n",
    "\t\tUpdated, normalised synaptic weights. \n",
    "\t\"\"\"\n",
    "\tsyn_sum = sum(syn_weights,1)'\n",
    "\tdenom = repeat(syn_sum',inner=(size(syn_weights)[1],1))\n",
    "\tsyn_weights = (TOTAL_SYN_WEIGHT*syn_weights)./denom\n",
    "\treturn syn_weights\n",
    "end"
   ]
  },
  {
   "cell_type": "code",
   "execution_count": 247,
   "metadata": {},
   "outputs": [
    {
     "data": {
      "text/plain": [
       "update_connections (generic function with 1 method)"
      ]
     },
     "execution_count": 247,
     "metadata": {},
     "output_type": "execute_result"
    }
   ],
   "source": [
    "function update_connections(syn_weights)\n",
    "\t\"\"\" Removes weak synapses and creates new connections adjacent\n",
    "\tto strong synapses. \n",
    "\n",
    "\tParameters\n",
    "\t----------\n",
    "\tsyn_weights: 2D Array\n",
    "\t\tSynaptic weights between each cell in pre and postsynaptic chain. \n",
    "\n",
    "\tReturns\n",
    "\t-------\n",
    "\tnew_weights: 2D Array\n",
    "\t\tNormalised synaptic weights after removal and addition of synapses. \n",
    "\n",
    "\t\"\"\"\n",
    "\tsyn_weights[find(x -> x < (DISCARD_CONST*TOTAL_SYN_WEIGHT), syn_weights)] = 0\n",
    "\t(xinds,yinds) = findn(syn_weights .> (STRONG_SYN_CONST*TOTAL_SYN_WEIGHT)) # finds strong syns\n",
    "\n",
    "\tfor index=1:length(yinds)\n",
    "\t\tif((yinds[index] < POST_SHEET_LEN))\n",
    "\t\t\tif((syn_weights[xinds[index],yinds[index]+1]==0))\n",
    "\t\t\t\tsyn_weights[xinds[index],yinds[index]+1] = SPROUT_CONST*TOTAL_SYN_WEIGHT\n",
    "\t\t\tend\n",
    "\t\tend\n",
    "\t\tif(yinds[index]-2 >= 0)\n",
    "\t\t\tif(syn_weights[xinds[index],yinds[index]-1]==0)\n",
    "\t\t\t\tsyn_weights[xinds[index],yinds[index]-1] = SPROUT_CONST*TOTAL_SYN_WEIGHT\n",
    "\t\t\tend\n",
    "\t\tend\n",
    "\tend\n",
    "\tnew_weights = norm_weights(syn_weights)\n",
    "\treturn new_weights\n",
    "end"
   ]
  },
  {
   "cell_type": "code",
   "execution_count": 259,
   "metadata": {},
   "outputs": [
    {
     "data": {
      "text/plain": [
       "run (generic function with 1 method)"
      ]
     },
     "execution_count": 259,
     "metadata": {},
     "output_type": "execute_result"
    }
   ],
   "source": [
    "function run(iterations)\n",
    "\t\"\"\" Runs simulation of Marker Model. \n",
    "\n",
    "\tEach simulation cycle consists of:\n",
    "\t1) Updating synaptic weights\n",
    "\t2) Adding/removing synapses\n",
    "\t3) Updating marker sources in postsynaptic chain\n",
    "\t4) Updating marker concentrations in postsynaptic chain\n",
    "\t\n",
    "\tParameters\n",
    "\t----------\n",
    "\titerations: int \n",
    "\t\tNumber of iterations to simulate model. \n",
    "\t\"\"\"\n",
    "\n",
    "\tprintln(\"Running Marker Induction Model (1979)...\")\n",
    "\ttstart = time()\n",
    "\tparams = initialise()\n",
    "\n",
    "\t(syn_weights,pre_conc,post_conc,pre_marker_source,post_marker_source) = params\n",
    "\titer_weights = zeros((floor(Int64,iterations/FRAME_RATE),PRE_SHEET_LEN,POST_SHEET_LEN))\n",
    "\titer_weights[1,:,:] = syn_weights\n",
    "\n",
    "\tpre_conc = update_pre_conc(pre_conc,pre_marker_source)\n",
    "\tpre_conc = norm_conc(pre_conc) \n",
    "\n",
    "\tfor i=1:iterations\n",
    "\t\tpost_marker_source = update_post_marker(syn_weights,pre_conc) \n",
    "\t\tpost_conc = update_post_conc(post_conc,post_marker_source) \n",
    "\t\tpost_conc = norm_conc(post_conc)  \n",
    "\n",
    "\t\tsyn_weights = update_weights(syn_weights,pre_conc,post_conc) \n",
    "\t\tsyn_weights = update_connections(syn_weights)\n",
    "\n",
    "\t\tif(i%FRAME_RATE == 0)\n",
    "\t\t\titer_weights[floor(Int,i/FRAME_RATE),:,:] = syn_weights\n",
    "\t\tend\n",
    "\t\treport_progress(i,iterations,tstart)\n",
    "\tend\n",
    "\treturn iter_weights\n",
    "end"
   ]
  },
  {
   "cell_type": "code",
   "execution_count": 255,
   "metadata": {},
   "outputs": [
    {
     "name": "stdout",
     "output_type": "stream",
     "text": [
      "Running Marker Induction Model (1979)...\n",
      "100.000% completed.  Time passed: 0.272 mins.    Expected time left: 0.000  \r"
     ]
    }
   ],
   "source": [
    "iter_weights = run(5000);"
   ]
  },
  {
   "cell_type": "markdown",
   "metadata": {},
   "source": [
    "# Visualisation"
   ]
  },
  {
   "cell_type": "code",
   "execution_count": 257,
   "metadata": {},
   "outputs": [
    {
     "data": {
      "text/plain": [
       "plot_dist (generic function with 1 method)"
      ]
     },
     "execution_count": 257,
     "metadata": {},
     "output_type": "execute_result"
    }
   ],
   "source": [
    "function plot_iteration(syn_weights)\n",
    "\t\"\"\" Displays synapses between between neurons in pre- and\n",
    "\tpostsynaptic chain. The strength of each synapse is \n",
    "\tindicated by the size of its marker. \n",
    "\n",
    "\tParameters\n",
    "\t----------\n",
    "\tsyn_weights: 2D Array\n",
    "\t\tSynaptic weights between each cell in pre and postsynaptic chain. \n",
    "\t\"\"\"\n",
    "    \n",
    "\tfor i in 1:PRE_SHEET_LEN\n",
    "\t\tsyns = findn(syn_weights[i,:])\n",
    "\t\tsize = syn_weights[i,syns]*100\n",
    "\t\tPyPlot.scatter([i for j in 1:length(syns)],syns,s=size,c=\"k\")\n",
    "\tend\n",
    "\n",
    "\tPyPlot.xlim([0,PRE_SHEET_LEN+1])\n",
    "\tPyPlot.ylim([0,POST_SHEET_LEN+1])\n",
    "\tPyPlot.xlabel(\"Presynaptic Cell Number\")\n",
    "\tPyPlot.ylabel(\"Postsynaptic Cell Number\")\n",
    "\tPyPlot.show()\n",
    "end\n",
    "            \n",
    "\n",
    "\n",
    "function update_dist(val)\n",
    "\t\"\"\" Updates distribution plot to display synapses at a given\n",
    "\titeration of the model simulation.\n",
    "\n",
    "\tParameters\n",
    "\t----------\n",
    "\tval: int\n",
    "\t\tIteration to display synapse distribution.\n",
    "\t\"\"\"\n",
    "\tax = PyPlot.gca()\n",
    "\tax[:set_aspect](\"equal\")\n",
    "\tval = Int(val/FRAME_RATE)\n",
    "\tsyn_weights = weights[val,:,:]\n",
    "\tplot_iteration(syn_weights)\n",
    "end\n",
    "\n",
    "\n",
    "# Can't seem to get widgets working in JuliaBox. \n",
    "function plot_dist(iws)\n",
    "\t\"\"\" Sets up the figure and iteration slider for a synapse distribution\n",
    "\tplot. \n",
    "    \n",
    "\tParameters\n",
    "\t----------\n",
    "\tiws: 3D Array\n",
    "\t\tSynaptic weights between each pre- and postsynaptic neuron at\n",
    "\t\teach frame of the model simulation.\n",
    "\t\"\"\"\n",
    "\tglobal weights\n",
    "\tPyPlot.figure()\n",
    "\tweights = iws\n",
    "\tPyPlot.interact(update_dist,val=IntSlider(min=0,\n",
    "\tmax=len(weights[:,0,0])*FRAME_RATE -1,\n",
    "\tstep=1,description=\"Iteration: \"))\n",
    "end\n"
   ]
  },
  {
   "cell_type": "code",
   "execution_count": 258,
   "metadata": {},
   "outputs": [
    {
     "data": {
      "image/png": "[encoded data removed]",
      "text/plain": [
       "PyPlot.Figure(PyObject <Figure size 640x480 with 1 Axes>)"
      ]
     },
     "metadata": {},
     "output_type": "display_data"
    }
   ],
   "source": [
    "plot_iteration(iter_weights[2000,:,:])"
   ]
  },
  {
   "cell_type": "raw",
   "metadata": {},
   "source": []
  },
  {
   "cell_type": "code",
   "execution_count": null,
   "metadata": {},
   "outputs": [],
   "source": []
  },
  {
   "cell_type": "code",
   "execution_count": null,
   "metadata": {
    "hide_input": false
   },
   "outputs": [],
   "source": []
  },
  {
   "cell_type": "code",
   "execution_count": null,
   "metadata": {},
   "outputs": [],
   "source": []
  },
  {
   "cell_type": "code",
   "execution_count": null,
   "metadata": {},
   "outputs": [],
   "source": []
  },
  {
   "cell_type": "code",
   "execution_count": null,
   "metadata": {},
   "outputs": [],
   "source": []
  }
 ],
 "metadata": {
  "kernelspec": {
   "display_name": "Julia 0.6.2",
   "language": "julia",
   "name": "julia-0.6"
  },
  "language_info": {
   "file_extension": ".jl",
   "mimetype": "application/julia",
   "name": "julia",
   "version": "0.6.2"
  }
 },
 "nbformat": 4,
 "nbformat_minor": 2
}
