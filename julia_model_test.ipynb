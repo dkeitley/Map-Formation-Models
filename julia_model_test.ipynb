{
 "cells": [
  {
   "cell_type": "code",
   "execution_count": 1,
   "metadata": {},
   "outputs": [
    {
     "data": {
      "text/plain": [
       "willshaw76"
      ]
     },
     "execution_count": 1,
     "metadata": {},
     "output_type": "execute_result"
    }
   ],
   "source": [
    "module willshaw76\n",
    "\n",
    "using Plots, ImageFiltering, TestImages, ImageView; gr(); \n",
    "\n",
    "# Parameters\n",
    "FRAME_RATE = 500\n",
    "dt = 1\n",
    "\n",
    "INIT_SYN_MEAN = 2.5                                 # S\n",
    "INIT_SYN_SD = 0.14\n",
    "\n",
    "POLARITY_MULT = 5\n",
    "ACTIVITY_THRESH = 10                                # theta\n",
    "MEM_TIME_CONST = 0.5                                # alpha\n",
    "STATIONARITY_CONST = 0.005\n",
    "SYN_MOD_THRESH = 2                                  # epsilon\n",
    "HEBB_CONST = 0.0016                                 # h\n",
    "INPUT_CLUSTER_SIZE = 2                              # c\n",
    "\n",
    "beta = 0.05\n",
    "gamma = 0.025\n",
    "delta = -0.06\n",
    "DIST_FILTER = [0 0 0 delta 0 0 0;\n",
    "            0 0 delta gamma delta 0 0;\n",
    "        0 delta gamma beta gamma delta 0;\n",
    "            delta gamma beta 0 beta gamma delta;\n",
    "            0 delta gamma beta gamma delta 0;\n",
    "                0 0 delta gamma delta 0 0;\n",
    "                    0 0 0 delta 0 0 0]\n",
    "\n",
    "\n",
    "type ActivityModel\n",
    "    ret_dim1::Int\n",
    "    ret_dim2::Int\n",
    "    tec_dim1::Int\n",
    "    tec_dim2::Int\n",
    "    tec_pms::Array{Int,1}\n",
    "    pairs::Array{Int,2}\n",
    "    num_pairs::Int\n",
    "    syn_weights::Array{Float64,4}\n",
    "    rf_centres::Array{Float64,3}\n",
    "    iter_weights::Array{Float64,5}\n",
    "    iter_rfs::Array{Float64,4}\n",
    "\n",
    "    ## Constructor\n",
    "    function ActivityModel(ni,nj,nk,nl,tec_pms)\n",
    "        s = init_syns(ni, nj, nk, nl,tec_pms)\n",
    "        (num_pairs,pairs) = gen_pairs(ni,nj)\n",
    "        rf = zeros(nk, nl,2)\n",
    "        iw = zeros(1,ni,nj,nk,nl)\n",
    "        irf = zeros(1,nk,nl,2)\n",
    "\n",
    "        new(ni, nj, nk, nl, tec_pms,pairs,num_pairs, s, rf,iw,irf)\n",
    "    end\n",
    "\n",
    "end\n",
    "\n",
    "\n",
    "function run(model::ActivityModel,iterations)\n",
    "    ni = model.ret_dim1\n",
    "    nj = model.ret_dim2\n",
    "    nk = model.tec_dim1\n",
    "    nl = model.tec_dim2\n",
    "\n",
    "    model.iter_weights = zeros(floor(Int64,iterations/FRAME_RATE)+1,\n",
    "        ni,nj,nk,nl)\n",
    "    model.iter_rfs = zeros(floor(Int64,iterations/FRAME_RATE)+1,\n",
    "        nk,nl,2)\n",
    "\n",
    "    tstart = time()\n",
    "\n",
    "    for i in 1:iterations\n",
    "        iteration(model)\n",
    "\n",
    "        if i % FRAME_RATE == 0\n",
    "            index = floor(Int64,i/FRAME_RATE)\n",
    "            model.iter_weights[index,:,:,:,:] = model.syn_weights\n",
    "            model.iter_rfs[index,:,:,:] = model.rf_centres\n",
    "            report_progress(i,iterations,tstart)\n",
    "        end\n",
    "\n",
    "    end\n",
    "\n",
    "\n",
    "end\n",
    "\n",
    "\n",
    "function iteration(model::ActivityModel)\n",
    "    pair = activate_ret(model.pairs,model.num_pairs)\n",
    "    init_pot = activate_tec(model.syn_weights,pair)\n",
    "    activity = update_potential(model.syn_weights,init_pot)\n",
    "    model.syn_weights = update_syns(model.syn_weights,activity,pair,\n",
    "        model.ret_dim1,model.ret_dim2,model.tec_dim1,model.tec_dim2)\n",
    "    model.rf_centres = calc_rf_centres(model.syn_weights,\n",
    "        model.ret_dim1,model.ret_dim2,model.tec_dim1,model.tec_dim2)\n",
    "end\n",
    "\n",
    "\n",
    "function init_syns(ni,nj,nk,nl,tec_pms)\n",
    "    syn_weights = randn(ni,nj,nk,nl)*INIT_SYN_SD + INIT_SYN_MEAN\n",
    "\n",
    "    imid1 =  fld(ni,2)\n",
    "    imid2 = imid1 + 1\n",
    "\n",
    "    jmid1 = fld(nj,2)\n",
    "    jmid2 = jmid1 + 1\n",
    "\n",
    "    kpm1 = tec_pms[1]\n",
    "    kpm2 = tec_pms[2]\n",
    "    lpm1 = tec_pms[3]\n",
    "    lpm2 = tec_pms[4]\n",
    "\n",
    "    syn_weights[imid1,jmid1,kpm1,lpm1] *= POLARITY_MULT\n",
    "    syn_weights[imid1,jmid2,kpm1,lpm2] *= POLARITY_MULT\n",
    "    syn_weights[imid2,jmid1,kpm2,lpm1] *= POLARITY_MULT\n",
    "    syn_weights[imid2,jmid2,kpm2,lpm2] *= POLARITY_MULT\n",
    "\n",
    "    syn_weights = norm_syns!(syn_weights,ni,nj,nk,nl)\n",
    "\n",
    "    return syn_weights\n",
    "\n",
    "end\n",
    "\n",
    "\n",
    "\n",
    "function norm_syns!(syn_weights,ni,nj,nk,nl)\n",
    "    reshaped_weights = reshape(syn_weights,(ni*nj,nk*nl))\n",
    "    mu = mean(reshaped_weights,1)\n",
    "    norm_weights = (reshaped_weights*INIT_SYN_MEAN)./mu\n",
    "    syn_weights = reshape(norm_weights,(ni,nj,nk,nl))\n",
    "    return syn_weights\n",
    "end\n",
    "\n",
    "\n",
    "\n",
    "function gen_pairs(ni,nj)\n",
    "    num_pairs = 2*(ni-1)*(nj-1) + (ni-1) + (nj-1)\n",
    "    pairs = zeros(Int,(num_pairs,4))\n",
    "    count = 1 \n",
    "    for i=1:ni, j=1:nj\n",
    "        if i!=ni\n",
    "            pairs[count,:] = [i,j,i+1,j]\n",
    "            count += 1\n",
    "        end\n",
    "\n",
    "        if j!=nj\n",
    "            pairs[count,:] = [i,j,i,j+1]\n",
    "            count += 1\n",
    "        end\n",
    "    end\n",
    "\n",
    "    return (num_pairs,pairs)\n",
    "\n",
    "end\n",
    "\n",
    "\n",
    "function activate_ret(pairs,num_pairs)\n",
    "    pair  = pairs[rand(1:num_pairs),:]\n",
    "    return pair\n",
    "end\n",
    "\n",
    "\n",
    "function activate_tec(syn_weights,pair)\n",
    "    i1 = pair[1]\n",
    "    j1 = pair[2]\n",
    "    i2 = pair[3]\n",
    "    j2 = pair[4]\n",
    "\n",
    "    mem_pot = syn_weights[i1,j1,:,:] + syn_weights[i2,j2,:,:]\n",
    "    return mem_pot\n",
    "end\n",
    "\n",
    "\n",
    "function update_potential(syn_weights,init_pot)\n",
    "    cur_pot = copy(init_pot)\n",
    "    mean_change = 1\n",
    "    new_mean = mean(cur_pot)\n",
    "    old_mean = 0\n",
    "    while mean_change > (STATIONARITY_CONST*old_mean)\n",
    "        old_mean = new_mean\n",
    "        activity = thresh(copy(cur_pot))\n",
    "        conv = tec_feedback(activity)\n",
    "        pot_change = (init_pot + conv) - (MEM_TIME_CONST*cur_pot) \n",
    "        cur_pot += pot_change*dt\n",
    "        new_mean = mean(cur_pot)\n",
    "        mean_change = abs(new_mean-old_mean)\n",
    "    end\n",
    "\n",
    "    activity = thresh(cur_pot)\n",
    "    return activity\n",
    "\n",
    "end\n",
    "\n",
    "\n",
    "\n",
    "function thresh(cur_pot)\n",
    "    cur_pot[find(x -> x < ACTIVITY_THRESH, cur_pot)] = 0\n",
    "    cur_pot[find(x -> x > ACTIVITY_THRESH, cur_pot)] -= ACTIVITY_THRESH\n",
    "    return cur_pot\n",
    "end\n",
    "\n",
    "\n",
    "\n",
    "function tec_feedback(activity)\n",
    "    filter = centered(DIST_FILTER)\n",
    "    feedback = imfilter(activity,filter,Fill(0)) \n",
    "    return feedback\n",
    "end\n",
    "\n",
    "\n",
    "function update_syns(syn_weights,activity,pair,ni,nj,nk,nl)\n",
    "    i1 = pair[1]\n",
    "    j1 = pair[2]\n",
    "    i2 = pair[3]\n",
    "    j2 = pair[4]\n",
    "\n",
    "    inds = find(x -> x > SYN_MOD_THRESH,activity)\n",
    "\n",
    "    if length(inds)!=0\n",
    "        syn_weights[i1,j1,inds] += HEBB_CONST*activity[inds]\n",
    "        syn_weights[i2,j2,inds] += HEBB_CONST*activity[inds]\n",
    "    end\n",
    "\n",
    "    syn_weights = norm_syns!(syn_weights,ni,nj,nk,nl)\n",
    "\n",
    "    return syn_weights\n",
    "\n",
    "end\n",
    "\n",
    "\n",
    "function calc_rf_centres(syn_weights,ni,nj,nk,nl)\n",
    "    rec_field = zeros(nk,nl,2)\n",
    "    rshpe_syns = reshape(syn_weights,(ni*nj,nk*nl))\n",
    "    denom = sum(rshpe_syns,1)\n",
    "\n",
    "    iinds = repeat([ i for i in 1:ni],inner=nj)\n",
    "    inume = sum((rshpe_syns.*iinds),1)\n",
    "    rshpe_irf = inume./denom\n",
    "    irf = reshape(rshpe_irf,(nk,nl))\n",
    "\n",
    "    jinds = repeat([ j for j in 1:nj],outer=ni)\n",
    "    jnume = sum((rshpe_syns.*jinds),1)\n",
    "    rshpe_jrf = jnume./denom\n",
    "    jrf = reshape(rshpe_jrf,(nk,nl))\n",
    "\n",
    "    rec_field[:,:,1] = irf\n",
    "    rec_field[:,:,2] = jrf\n",
    "\n",
    "    return rec_field\n",
    "\n",
    "end\n",
    "\n",
    "\n",
    "function report_progress(i,iterations,tstart)\n",
    "    progress = ((i+1)*100)/iterations\n",
    "    t = time()\n",
    "    tpassed = (t-tstart)/60\n",
    "    time2go = ((tpassed/progress)*100) - tpassed\n",
    "\n",
    "    print(\"$(progress)% completed.  Time passed: $(@sprintf(\"%.3f\",tpassed)).    Expected time left: $(@sprintf(\"%.3f\",time2go))  \\r\")\n",
    "    flush(STDOUT)\n",
    "\n",
    "end\n",
    "end  \n"
   ]
  },
  {
   "cell_type": "code",
   "execution_count": 92,
   "metadata": {},
   "outputs": [
    {
     "name": "stderr",
     "output_type": "stream",
     "text": [
      "WARNING: Method definition plot_iteration(Any, Any) in module Main at In[90]:4 overwritten at In[92]:4.\n",
      "WARNING: Method definition plot_map(willshaw76.ActivityModel, Any) in module Main at In[90]:37 overwritten at In[92]:37.\n"
     ]
    },
    {
     "data": {
      "text/plain": [
       "plot_map (generic function with 1 method)"
      ]
     },
     "execution_count": 92,
     "metadata": {},
     "output_type": "execute_result"
    }
   ],
   "source": [
    "using Plots, PyPlot, Interact, Reactive\n",
    "\n",
    "function plot_iteration(model,iteration)\n",
    "    rec_fields = model.iter_rfs[iteration,:,:,:]\n",
    "    PyPlot.xlim(1,model.ret_dim1)\n",
    "    PyPlot.ylim(1,model.ret_dim2)\n",
    "    PyPlot.axes()[:set_aspect](\"equal\")\n",
    "    \n",
    "    for k in 1:model.tec_dim1\n",
    "        i1 = []\n",
    "        j1 = []\n",
    "\n",
    "        for l in 1:model.tec_dim2\n",
    "            append!(i1,rec_fields[k,l,1])\n",
    "            append!(j1,rec_fields[k,l,2])\n",
    "        end\n",
    "        PyPlot.plot(i1,j1,c=\"k\")\n",
    "    end\n",
    "\n",
    "\n",
    "    for l in 1:model.tec_dim2\n",
    "        i2 = []\n",
    "        j2 = []\n",
    "\n",
    "        for k in 1:model.tec_dim1\n",
    "            append!(i2,rec_fields[k,l,1])\n",
    "            append!(j2,rec_fields[k,l,2])\n",
    "        end\n",
    "        PyPlot.plot(i2,j2,c=\"k\")\n",
    "    end\n",
    "    PyPlot.show()\n",
    "end\n",
    "\n",
    "\n",
    "\n",
    "function plot_map(model::willshaw76.ActivityModel,FRAME_RATE)\n",
    "    fig = figure()\n",
    "    #plot_iteration(model,1)\n",
    "    iterations = length(model.iter_rfs[:,1,1,1])*FRAME_RATE\n",
    "\n",
    "    @manipulate for Iteration=1:iterations; withfig(fig) do  \n",
    "        plot_iteration(model,floor(Int64,Iteration/FRAME_RATE)+1) \n",
    "    end\n",
    "    end\n",
    "end"
   ]
  },
  {
   "cell_type": "code",
   "execution_count": 22,
   "metadata": {},
   "outputs": [],
   "source": [
    "am = willshaw76.ActivityModel(5,5,5,5,[2,3,2,3]);"
   ]
  },
  {
   "cell_type": "code",
   "execution_count": 24,
   "metadata": {},
   "outputs": [
    {
     "name": "stdout",
     "output_type": "stream",
     "text": [
      "100.01% completed.  Time passed: 0.390.    Expected time left: -0.000  \r"
     ]
    }
   ],
   "source": [
    "willshaw76.run(am,10000);"
   ]
  },
  {
   "cell_type": "code",
   "execution_count": 93,
   "metadata": {},
   "outputs": [
    {
     "data": {
      "text/html": [],
      "text/plain": [
       "Interact.Options{:SelectionSlider,Int64}(95: \"input-30\" = 5250 Int64 ,\"Iteration\",5250,\"5250\",Interact.OptionDict(DataStructures.OrderedDict(\"1\"=>1,\"2\"=>2,\"3\"=>3,\"4\"=>4,\"5\"=>5,\"6\"=>6,\"7\"=>7,\"8\"=>8,\"9\"=>9,\"10\"=>10…),Dict(9775=>\"9775\",2843=>\"2843\",4495=>\"4495\",6928=>\"6928\",9905=>\"9905\",6380=>\"6380\",1316=>\"1316\",6265=>\"6265\",5459=>\"5459\",5842=>\"5842\"…)),Any[],Any[],true,\"horizontal\")"
      ]
     },
     "metadata": {},
     "output_type": "display_data"
    },
    {
     "data": {
      "image/png": "[encoded data removed]",
      "text/plain": [
       "PyPlot.Figure(PyObject <matplotlib.figure.Figure object at 0x7f112b7d9350>)"
      ]
     },
     "execution_count": 93,
     "metadata": {
      "comm_id": "6463866f-b15a-448b-9777-cd0e5ba39958",
      "reactive": true
     },
     "output_type": "execute_result"
    }
   ],
   "source": [
    "plot_map(am,500)"
   ]
  },
  {
   "cell_type": "code",
   "execution_count": 56,
   "metadata": {},
   "outputs": [
    {
     "data": {
      "text/plain": [
       "5×5×2 Array{Float64,3}:\n",
       "[:, :, 1] =\n",
       " 3.03178  2.99345  3.02465  2.99351  3.02014\n",
       " 2.96561  2.83435  2.99913  3.01696  2.98138\n",
       " 3.01145  2.82081  2.99997  2.99333  3.01811\n",
       " 3.02267  3.01983  3.01725  3.00005  2.9921 \n",
       " 3.03011  3.00302  3.02563  2.98459  3.03092\n",
       "\n",
       "[:, :, 2] =\n",
       " 3.04481  3.0103   2.99549  3.00684  3.00517\n",
       " 3.05211  2.84372  2.80453  3.01635  2.998  \n",
       " 2.98958  3.01965  2.98133  2.99652  3.00059\n",
       " 3.01724  3.00923  3.01116  2.99607  2.99441\n",
       " 2.97299  3.00536  3.01619  3.00799  3.01333"
      ]
     },
     "execution_count": 56,
     "metadata": {},
     "output_type": "execute_result"
    }
   ],
   "source": [
    "am.iter_rfs[1,:,:,:]"
   ]
  },
  {
   "cell_type": "code",
   "execution_count": 57,
   "metadata": {},
   "outputs": [
    {
     "data": {
      "text/plain": [
       "5×5×2 Array{Float64,3}:\n",
       "[:, :, 1] =\n",
       " 2.99858  2.6153   2.97813  3.00456  3.02014\n",
       " 2.46941  2.2429   2.85301  3.03236  2.98138\n",
       " 2.49252  2.17095  2.84002  3.02822  3.01811\n",
       " 2.96012  2.51107  2.89906  3.00542  2.9921 \n",
       " 3.03011  3.00302  3.02563  2.98459  3.03092\n",
       "\n",
       "[:, :, 2] =\n",
       " 3.0163   2.61575  2.58702  2.9062   3.00517\n",
       " 2.71132  2.38025  2.33126  2.6443   2.998  \n",
       " 2.98018  2.86285  2.79702  2.86404  3.00059\n",
       " 3.02654  3.04573  3.02751  3.00064  2.99441\n",
       " 2.97299  3.00536  3.01619  3.00799  3.01333"
      ]
     },
     "execution_count": 57,
     "metadata": {},
     "output_type": "execute_result"
    }
   ],
   "source": [
    "am.iter_rfs[15,:,:,:]"
   ]
  },
  {
   "cell_type": "code",
   "execution_count": null,
   "metadata": {
    "collapsed": true
   },
   "outputs": [],
   "source": []
  }
 ],
 "metadata": {
  "kernelspec": {
   "display_name": "Julia 0.5.2",
   "language": "julia",
   "name": "julia-0.5"
  },
  "language_info": {
   "file_extension": ".jl",
   "mimetype": "application/julia",
   "name": "julia",
   "version": "0.5.2"
  }
 },
 "nbformat": 4,
 "nbformat_minor": 2
}
