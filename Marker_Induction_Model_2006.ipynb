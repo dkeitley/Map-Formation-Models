{
 "cells": [
  {
   "cell_type": "markdown",
   "metadata": {},
   "source": [
    "# Marker Induction Model (2006)"
   ]
  },
  {
   "cell_type": "markdown",
   "metadata": {},
   "source": [
    "#### Python Modules and Utility Functions"
   ]
  },
  {
   "cell_type": "code",
   "execution_count": 1,
   "metadata": {},
   "outputs": [],
   "source": [
    "import numpy as np \n",
    "import sys\n",
    "import math\n",
    "import time\n",
    "import random as rnd\n",
    "import numpy as np\n",
    "import matplotlib.pyplot as plt\n",
    "from __future__ import print_function\n",
    "from ipywidgets import interact, interactive, fixed, IntSlider\n",
    "import ipywidgets as widgets\n",
    "import scipy as sp\n",
    "from scipy import signal\n",
    "\n",
    "\n",
    "def report_progress(i,iterations,tstart):\n",
    "\t''' Prints to screen the model progress. \n",
    "\n",
    "\tParameters\n",
    "\t----------\n",
    "\ti: int \n",
    "\t\tCurrent iteration of the model.\n",
    "\n",
    "\titerations: int \n",
    "\t\tNumber of iterations set to run. \n",
    "\n",
    "\ttstart: float \n",
    "\t\tTime of starting the model. \n",
    "\t'''\n",
    "    \n",
    "\tprogress = ((i+1)*100)/iterations\n",
    "\tt = time.time()\n",
    "\ttpassed = (t-tstart)/60\n",
    "\ttime2go = ((tpassed/progress)*100) - tpassed\n",
    "\n",
    "\tsys.stdout.write('\\r' + \"{0:.3f}\".format(progress) + \n",
    "                     \"% completed.  Time passed: {0:.3f} mins.\".format(tpassed) +  \n",
    "                     \"   Expected time left: {0:.3f} mins. \".format(time2go) )\n",
    "\tsys.stdout.flush()"
   ]
  },
  {
   "cell_type": "markdown",
   "metadata": {},
   "source": [
    "## Model Parameters"
   ]
  },
  {
   "cell_type": "code",
   "execution_count": 2,
   "metadata": {
    "collapsed": true
   },
   "outputs": [],
   "source": [
    "RET_DIM_1 = 20\n",
    "RET_DIM_2 = 20\n",
    "\n",
    "TEC_DIM_1 = 20\n",
    "TEC_DIM_2 = 20\n",
    "\n",
    "FRAME_RATE = 20\n",
    "\n",
    "INIT_EPHA_CONST_1 = 0.26\n",
    "INIT_EPHA_CONST_2 = 2.3\n",
    "INIT_EPHA_CONST_3 = 1.05\n",
    "\n",
    "INIT_EPHB_CONST = 0.02\n",
    "\n",
    "INIT_EPHR_CONST_1 = 0.6\n",
    "INIT_EPHR_CONST_2 = 0.5\n",
    "\n",
    "NUM_INIT_SYNS = 10\n",
    "INIT_MAX_SYN = 0.0001\n",
    "\n",
    "COMPL_CONST = 0.0504\t\t\t\t\t# kappa\n",
    "WEIGHT_UPDATE_RATE = 0.1\t\t\t\t# gamma\n",
    "\n",
    "EPHR_UPDATE_CONST_1 = 0.05\t\t\t\t# alpha\n",
    "EPHR_UPDATE_CONST_2 = 0.01\t\t\t\t# beta\n",
    "\n",
    "dt = 1"
   ]
  },
  {
   "cell_type": "markdown",
   "metadata": {},
   "source": [
    "## Initialisation"
   ]
  },
  {
   "cell_type": "markdown",
   "metadata": {},
   "source": [
    "#### Eph Initialisation\n",
    "\n",
    "Eph-A density across the nasal-temporal axis of the retina is intialised to follow the equation $y=a e^{bx} + c$ for parameters $a$,$b$,$c$. \n",
    "\n",
    "Eph-B density across the doral-ventral axis of the retina initialised to follow the equation $y=\\frac{x}{N_2}$ for $N_2$ the number of cells in the dorsal-ventral axis of the retinal sheet.  "
   ]
  },
  {
   "cell_type": "code",
   "execution_count": 3,
   "metadata": {
    "collapsed": true
   },
   "outputs": [],
   "source": [
    "def init_EphA():\n",
    "\t\"\"\" Creates a nasal-temporal EphA concentration gradient in the retina. \n",
    "\t\tSee Reber et al. 2004.\n",
    "\n",
    "\t\tReturns\n",
    "\t\t-------\n",
    "\t\tEphA: 2D Array\n",
    "\t\t\tEphA concentration in each cell of the retina. \n",
    "\t\"\"\"\n",
    "\ta = INIT_EPHA_CONST_1\n",
    "\tb = INIT_EPHA_CONST_2\n",
    "\tc = INIT_EPHA_CONST_3\n",
    "\n",
    "\tEphA = np.array([[ a*np.exp(b*((i)/(RET_DIM_1-1))) + c \n",
    "\t\tfor j in range(RET_DIM_2)] for i in range(RET_DIM_1)])\n",
    "\n",
    "\treturn EphA\n",
    "\n",
    "\n",
    "def init_EphB():\n",
    "\t\"\"\" Creates a dorsal-ventral EphB concentration gradient in the retina. \n",
    "\t\t\n",
    "\t\tReturns\n",
    "\t\t-------\n",
    "\t\tEphB: 2D Array\n",
    "\t\t\tEphA concentration in each cell of the retina. \n",
    "\t\"\"\"\n",
    "\tEphB = np.array([[ ((j))/(RET_DIM_2-1) \n",
    "\t\tfor j in range(RET_DIM_2)] for i in range(RET_DIM_1)])\n",
    "\n",
    "\treturn EphB"
   ]
  },
  {
   "cell_type": "markdown",
   "metadata": {},
   "source": [
    "#### ephrin Initialisation"
   ]
  },
  {
   "cell_type": "markdown",
   "metadata": {},
   "source": [
    "ephrin-A and B densities across the posterior-anterior and lateral-medial axis respectively, are initialised to fit equations of the form $y=ax + c\\Pi$ for parameters $a$ and $b$, where $\\Pi \\sim U[0,1]$."
   ]
  },
  {
   "cell_type": "code",
   "execution_count": 4,
   "metadata": {
    "collapsed": true
   },
   "outputs": [],
   "source": [
    "def init_ephrA():\n",
    "\t\"\"\"Creates a posterior-anterior ephrin-A concentration gradient in the tectum. \n",
    "\n",
    "\t\tReturns\n",
    "\t\t-------\n",
    "\t\tephrA: 2D Array\n",
    "\t\t\tephrin-B concentration in each cell of the tectum. \n",
    "\t\"\"\"\n",
    "\n",
    "\ta = INIT_EPHR_CONST_1\n",
    "\tb = INIT_EPHR_CONST_2\n",
    "\tephrA = np.array([[ a*(1- i/(TEC_DIM_1-1)) + b*np.random.uniform(0,1) \n",
    "\t\tfor j in range(TEC_DIM_2)] for i in range(TEC_DIM_1)])\n",
    "\n",
    "\treturn ephrA\n",
    "\n",
    "\n",
    "def init_ephrB():\n",
    "\t\"\"\"\" Creates a lateral-medial ephrin-B concentration gradient in the tectum.\n",
    "\t\tSee Tom Bland 2017. \n",
    "\n",
    "\t\tReturns\n",
    "\t\t-------\n",
    "\t\tephrB: 2D Array\n",
    "\t\t\tephrin-B concentration in each cell of the tectum. \n",
    "\t\"\"\"\n",
    "\n",
    "\ta = INIT_EPHR_CONST_1\n",
    "\tb = INIT_EPHR_CONST_2\n",
    "\tephrB = np.array([[ a*(j/(TEC_DIM_2-1)) + b*np.random.uniform(0,1) \n",
    "\t\tfor j in range(TEC_DIM_2)] for i in range(TEC_DIM_1)])\n",
    "\n",
    "\treturn ephrB"
   ]
  },
  {
   "cell_type": "markdown",
   "metadata": {},
   "source": [
    "#### Initialising synaptic weights"
   ]
  },
  {
   "cell_type": "code",
   "execution_count": 5,
   "metadata": {
    "collapsed": true
   },
   "outputs": [],
   "source": [
    "def init_syns():\n",
    "\t\"\"\" Creates randomly weighted connections between retina and tectum.\n",
    "\t\t\n",
    "\t\tReturns\n",
    "\t\t-------\n",
    "\t\tsyn_weights: 4D Array\n",
    "\t\t\t4D Array of uniformly random values.\n",
    "\n",
    "\t\"\"\"\n",
    "\tsyn_weights = np.random.uniform(0,INIT_MAX_SYN,\n",
    "\t\t(RET_DIM_1,RET_DIM_2,TEC_DIM_1,TEC_DIM_2))\n",
    "\treturn syn_weights"
   ]
  },
  {
   "cell_type": "markdown",
   "metadata": {},
   "source": [
    "#### Collating initialised components"
   ]
  },
  {
   "cell_type": "code",
   "execution_count": 6,
   "metadata": {
    "collapsed": true
   },
   "outputs": [],
   "source": [
    "def initialise():\n",
    "\t\"\"\"\" Initialises all components of Marker Induction Model (2006). \n",
    "\n",
    "\tReturns\n",
    "\t-------\n",
    "\tEphA_conc: 2D Array\n",
    "\t\tEphA concentration in each retinal cell with nasal-temporal gradient. \n",
    "\n",
    "\tEphB_conc: 2D Array\n",
    "\t\tEphB concentration in each retinal cell with dorsal-ventral gradient. \n",
    "\n",
    "\tephrA_conc: 2D Array\n",
    "\t\tephrin-A concentration in each tectal cell with posterior-anterior gradient.\n",
    "\n",
    "\tephrB_conc: 2D Array\n",
    "\t\tephrin-B concentration in each tectal cell with lateral-medial gradient.\n",
    "\n",
    "\tinduced_EphA: 2D Array\n",
    "\t\tZero array the size of tectal sheet.\n",
    "\n",
    "\tinduced_EphB: 2D Array\n",
    "\t\tZero array the size of tectal sheet. \n",
    "\n",
    "\tsyn_weights: 4D Array\n",
    "\t\tUniform random synaptic weights between each retinal and tectal cell. \n",
    "\n",
    "\t\"\"\"\n",
    "\tEphA_conc = init_EphA()\n",
    "\tEphB_conc = init_EphB()\n",
    "\n",
    "\tephrA_conc = init_ephrA()\n",
    "\tephrB_conc = init_ephrB()\n",
    "\n",
    "\tinduced_EphA = np.zeros((TEC_DIM_1,TEC_DIM_2))\n",
    "\tinduced_EphB = np.zeros((TEC_DIM_1,TEC_DIM_2))\n",
    "\n",
    "\tsyn_weights = init_syns()\n",
    "\n",
    "\tparams = (EphA_conc,EphB_conc,ephrA_conc,ephrB_conc,\n",
    "\t\tinduced_EphA,induced_EphB,syn_weights)\n",
    "\n",
    "\treturn params\n"
   ]
  },
  {
   "cell_type": "markdown",
   "metadata": {},
   "source": [
    "## Model Procedure"
   ]
  },
  {
   "cell_type": "markdown",
   "metadata": {},
   "source": [
    "#### 1. Induce Eph into Tectum"
   ]
  },
  {
   "cell_type": "code",
   "execution_count": 7,
   "metadata": {
    "collapsed": true
   },
   "outputs": [],
   "source": [
    "def induce_Eph(syn_weights,Eph_conc):\n",
    "\t\"\"\" Computes weighted density of EphA/B in retina cells ennervating each tectal cell.\n",
    "\n",
    "\tParameters\n",
    "\t----------\n",
    "\tsyn_weights: 4D Array\n",
    "\t\tSynaptic weights between each cell in retina and tectum.\n",
    "\n",
    "\tEph_conc: 2D Array\n",
    "\t\tEphA or EphB concentration in each retinal cell. \n",
    "\n",
    "\n",
    "\tReturns\n",
    "\t--------\n",
    "\tinduced_Eph: 2D Array\n",
    "\t\tInduced EphA/B concentration in each tectal cell. \n",
    "\n",
    "\t\"\"\"\n",
    "\n",
    "\tinduced_Eph = np.zeros((TEC_DIM_1,TEC_DIM_2))\n",
    "\n",
    "\treshaped_syns = np.reshape(syn_weights,(RET_DIM_1*RET_DIM_2,TEC_DIM_1*TEC_DIM_2))\n",
    "\treshaped_Eph = np.reshape(Eph_conc,(RET_DIM_1*RET_DIM_2,1))\n",
    "\tnume = np.sum(np.multiply(reshaped_syns,reshaped_Eph),axis=0)\n",
    "\tdenom = np.sum(reshaped_syns,axis=0)\n",
    "\treshaped_ind = np.divide(nume,denom)\n",
    "\tinduced_Eph = np.reshape(reshaped_ind,(TEC_DIM_1,TEC_DIM_2)) \n",
    "    \n",
    "\treturn induced_Eph"
   ]
  },
  {
   "cell_type": "markdown",
   "metadata": {},
   "source": [
    "#### 2. Update ephrin concentrations"
   ]
  },
  {
   "cell_type": "code",
   "execution_count": 8,
   "metadata": {
    "collapsed": true
   },
   "outputs": [],
   "source": [
    "def update_ephrs(ind_EphA,ind_EphB,ephrA_conc,ephrB_conc):\n",
    "\t\"\"\" Updates tectal ephrin-A and ephrin-B concentrations from\n",
    "\tinduced EphA/B concentrations. \n",
    "\n",
    "\tNote: Laplacian estimated by mean ephrin-A concentration among neighbours.\n",
    "\n",
    "\n",
    "\tParameters\n",
    "\t----------\n",
    "\tind_EphA: 2D Array\n",
    "\t\tInduced EphA concentration in each tectal cell.\n",
    "\n",
    "\tind_EphB: 2D Array\n",
    "\t\tInduced EphB concentration in each tectal cell.\n",
    "\n",
    "\tephrA_conc: 2D Array\n",
    "\t\tephrin-A concentration in each tectal cell. \n",
    "\n",
    "\tephrB_conc: 2D Array\n",
    "\t\tephrin-B concentration in each tectal cell. \n",
    "\n",
    "\n",
    "\tReturns\n",
    "\t-------\n",
    "\tephrA_conc: 2D Array\n",
    "\t\tNew ephrin-A concentrations in each tectal cell. \n",
    "\n",
    "\tephrB_conc: 2D Array\n",
    "\t\tNew ephrin-B concentrations in each tectal cell. \n",
    "\n",
    "\t\"\"\"\n",
    "    \n",
    "\talpha = EPHR_UPDATE_CONST_1\n",
    "\tbeta = EPHR_UPDATE_CONST_2\n",
    "\n",
    "\tmean_filter = np.array([[0,1,0],[1,0,1],[0,1,0]])\n",
    "\tbool_array = ephrA_conc.astype(bool)\n",
    "\tnum_neighbours = sp.signal.convolve2d(bool_array, mean_filter, \n",
    "\t\tmode='same', boundary='fill', fillvalue=0)\n",
    "\n",
    "\tsum_neighboursA = sp.signal.convolve2d(ephrA_conc, mean_filter, \n",
    "\t\tmode='same', boundary='fill', fillvalue=0)\n",
    "\tlaplA = np.divide(sum_neighboursA,num_neighbours)\n",
    "\n",
    "\tsum_neighboursB = sp.signal.convolve2d(ephrB_conc, mean_filter, \n",
    "\t\tmode='same', boundary='fill', fillvalue=0)\n",
    "\tlaplB = np.divide(sum_neighboursB,num_neighbours)\n",
    "\n",
    "\tephrA_change = alpha*(1-ind_EphA*ephrA_conc) + beta*(laplA-ephrA_conc)\n",
    "\tephrB_change = alpha*(ind_EphB-ephrB_conc) + beta*(laplB - ephrB_conc)\n",
    "\n",
    "\tephrA_conc = np.add(ephrA_conc,ephrA_change*dt)\n",
    "\tephrB_conc = np.add(ephrB_conc,ephrB_change*dt)\n",
    "\n",
    "\treturn (ephrA_conc,ephrB_conc)"
   ]
  },
  {
   "cell_type": "markdown",
   "metadata": {},
   "source": [
    "#### 3. Update synaptic weights"
   ]
  },
  {
   "cell_type": "code",
   "execution_count": 9,
   "metadata": {
    "collapsed": true
   },
   "outputs": [],
   "source": [
    "def update_weights(syn_weights,EphA_conc,EphB_conc,ephrA_conc,ephrB_conc):\n",
    "\t\"\"\" Updates synaptic weights using similarity between Eph and ephrin\n",
    "\tconcentrations.\n",
    "\n",
    "\tParameters\n",
    "\t----------\n",
    "\tsyn_weights: 4D Array\n",
    "\t\tSynaptic weights between each retinal and tectum cell.  \n",
    "\n",
    "\tEphA_conc: 2D Array\n",
    "\t\tEphA concentration in each retinal cell.\n",
    "\n",
    "\tEphB_conc: 2D Array\n",
    "\t\tEphB concentration in each retinal cell. \n",
    "\n",
    "\tephrA_conc: 2D Array\n",
    "\t\tephrin-A concentration in each tectal cell. \n",
    "\n",
    "\tephrB_conc: 2D Array\n",
    "\t\tephrin-B concentration in each tectal cell. \n",
    "\n",
    "\n",
    "\tReturns\n",
    "\t-------\n",
    "\n",
    "\tsyn_weights: 4D Array\n",
    "\t\tUpdated synaptic weights between each retina and tectum cell. \n",
    "\t\"\"\"\n",
    "\n",
    "\tgam = WEIGHT_UPDATE_RATE\n",
    "\n",
    "\tterm1 = np.multiply.outer(EphA_conc,ephrA_conc)\n",
    "\tterm1 -= 1\n",
    "\tterm1 = np.square(term1)\n",
    "\n",
    "\tterm2 = np.subtract.outer(EphB_conc,ephrB_conc)\n",
    "\tterm2 = np.square(term2)\n",
    "\n",
    "\tdist = np.add(term1,term2)\n",
    "\tcompl = np.exp(-dist/(2*COMPL_CONST**2))\n",
    "\n",
    "\tnumer = syn_weights + gam*compl*dt\n",
    "\tdenom = np.sum(numer,axis=(2,3))\n",
    "\n",
    "\t# reshape for vectorisation\n",
    "\treshape_nume = np.reshape(numer,(RET_DIM_1*RET_DIM_2,TEC_DIM_1*TEC_DIM_2))\n",
    "\treshape_denom = np.reshape(denom,(RET_DIM_1*RET_DIM_2,1))\n",
    "\treshaped_weights = np.divide(reshape_nume,reshape_denom)\n",
    "\t\n",
    "\tsyn_weights = np.reshape(reshaped_weights,(RET_DIM_1,RET_DIM_2,TEC_DIM_1,TEC_DIM_2))\n",
    "\n",
    "\treturn syn_weights"
   ]
  },
  {
   "cell_type": "markdown",
   "metadata": {},
   "source": [
    "## Calculating Receptive Fields"
   ]
  },
  {
   "cell_type": "code",
   "execution_count": 10,
   "metadata": {
    "collapsed": true
   },
   "outputs": [],
   "source": [
    "def calc_rf_centres(syn_weights):\n",
    "\t''' Computes retinal coordinates for the receptive field of each\n",
    "\ttectal neuron. \n",
    "\n",
    "\tParameters\n",
    "\t----------\n",
    "\tsyn_weights: 4D Array \n",
    "\t\tSynaptic weights of each connection between retinal and tectal neurons.\n",
    "\n",
    "\tReturns\n",
    "\t-------\n",
    "\trec_field: 3D Array \n",
    "\t\tx,y coordinates of the receptive field for each tectal neuron. \n",
    "\t'''\n",
    "    \n",
    "\trec_field = np.zeros((TEC_DIM_1,TEC_DIM_2,2))\n",
    "    \n",
    "\trshpe_syns = np.reshape(syn_weights,(RET_DIM_1*RET_DIM_2,\n",
    "\t\tTEC_DIM_1*TEC_DIM_2))\n",
    "\n",
    "\t#  x coordinate\n",
    "\txinds = np.matrix(np.repeat([i for i in range(0,RET_DIM_1)],RET_DIM_2)).T\n",
    "\txnume = np.sum(np.multiply(rshpe_syns,xinds),axis=0)\n",
    "\trshpe_xrf = np.divide(xnume,np.sum(rshpe_syns,axis=0))\n",
    "\txrf = np.reshape(rshpe_xrf,(TEC_DIM_1,TEC_DIM_2))\n",
    "\n",
    "\t# y coordinate\n",
    "\tyinds = np.matrix(np.tile([j for j in range(0,RET_DIM_2)],RET_DIM_1)).T\n",
    "\tynume = np.sum(np.multiply(rshpe_syns,yinds),axis=0)\n",
    "\trshpe_yrf = np.divide(ynume,np.sum(rshpe_syns,axis=0))\n",
    "\tyrf = np.reshape(rshpe_yrf,(TEC_DIM_1,TEC_DIM_2))\n",
    "\n",
    "\trec_field[:,:,0] = xrf\n",
    "\trec_field[:,:,1] = yrf\n",
    "\n",
    "\treturn rec_field"
   ]
  },
  {
   "cell_type": "markdown",
   "metadata": {},
   "source": [
    "## Running the Simulation"
   ]
  },
  {
   "cell_type": "code",
   "execution_count": 11,
   "metadata": {
    "collapsed": true
   },
   "outputs": [],
   "source": [
    "def run(iterations):\n",
    "\t\"\"\" Runs simulation of Marker Model.\n",
    "\n",
    "\tA simulation cycle consists of:\n",
    "\t1) Updating synaptic weights\n",
    "\t2) Inducing EphA and EphB into tectum\n",
    "\t3) Updating tectal labels. \n",
    "\n",
    "\tParameters\n",
    "\t----------\n",
    "\titerations: int\n",
    "\t\tNumber of iterations to iterate simulation cycle. \n",
    "\n",
    "\tReturns\n",
    "\t-------\n",
    "\titer_weights: 5D Array\n",
    "\t\tSynaptic weights at various iterations of the simulation.\n",
    "\n",
    "\trec_fields: 4D Array\n",
    "\t\tReceptive field coordinates of each tectal neuron at various\n",
    "\t\titerations of the simulation.  \n",
    "\t\"\"\"\n",
    "\n",
    "\tprint(\"Running Marker Induction Model (2006)...\")\n",
    "\ttstart = time.time()\n",
    "\t(EphA_conc,EphB_conc,ephrA_conc,ephrB_conc,ind_EphA,\n",
    "\tind_EphB,syn_weights) = initialise()\n",
    "\n",
    "\trec_fields = np.zeros((math.floor(iterations/FRAME_RATE)+1,\n",
    "\t\tTEC_DIM_1,TEC_DIM_2,2))\n",
    "\n",
    "\titer_weights = np.zeros((math.floor(iterations/FRAME_RATE)+1,\n",
    "\t\tRET_DIM_1,RET_DIM_2,TEC_DIM_1,TEC_DIM_2))\n",
    "\n",
    "\tfor i in range(iterations):\n",
    "\t\tsyn_weights = update_weights(syn_weights,EphA_conc,\n",
    "\t\t\tEphB_conc,ephrA_conc,ephrB_conc)\n",
    "\n",
    "\t\tind_EphA = induce_Eph(syn_weights,EphA_conc)\n",
    "\t\tind_EphB = induce_Eph(syn_weights,EphB_conc)\n",
    "\n",
    "\t\t(ephrA_conc,ephrB_conc) = update_ephrs(ind_EphA,\n",
    "\t\t\tind_EphB,ephrA_conc,ephrB_conc)\n",
    "\n",
    "\t\tif(i%FRAME_RATE == 0):\n",
    "\t\t\tindex = math.floor(i/FRAME_RATE)\n",
    "\t\t\titer_weights[index,:,:,:,:] = syn_weights\n",
    "\t\t\trfs = calc_rf_centres(syn_weights)\n",
    "\t\t\trec_fields[index,:,:,0] = rfs[:,:,0]\n",
    "\t\t\trec_fields[index,:,:,1] = rfs[:,:,1]\n",
    "\n",
    "\t\treport_progress(i,iterations,tstart)\n",
    "\t\t\n",
    "\titer_weights[iter_weights<0.001] = 0\n",
    "\treturn (iter_weights,rec_fields)"
   ]
  },
  {
   "cell_type": "code",
   "execution_count": 12,
   "metadata": {},
   "outputs": [
    {
     "name": "stdout",
     "output_type": "stream",
     "text": [
      "Running Marker Induction Model (2006)...\n",
      "100.000% completed.  Time passed: 0.265 mins.   Expected time left: 0.000 mins. "
     ]
    }
   ],
   "source": [
    "(iter_weights,rec_fields) = run(2000)"
   ]
  },
  {
   "cell_type": "markdown",
   "metadata": {},
   "source": [
    "## Visualising the Retinotopic Map"
   ]
  },
  {
   "cell_type": "code",
   "execution_count": 30,
   "metadata": {},
   "outputs": [],
   "source": [
    "def plot_iteration(iteration):\n",
    "\t''' Plots a lattice showing the receptive field \n",
    "\tcentres of each tectal neuron in the retinal sheet. \n",
    "\tThe receptive field centres of neighbouring tectal \n",
    "\tneurons are connected to each other.\n",
    "\n",
    "\tParameters\n",
    "\t----------\n",
    "\titeration: int\n",
    "\t\tIteration of the model simulation to plot\n",
    "\t\treceptive field centres.\n",
    "\t'''\n",
    "\n",
    "\trf = rec_fields[iteration,:,:,:]\n",
    "\n",
    "\tfor k in range(TEC_DIM_1):\n",
    "\t\tplt.plot(rf[k,:,0],rf[k,:,1],c=\"k\")\n",
    "\n",
    "\tfor l in range(TEC_DIM_2):\n",
    "\t\tplt.plot(rf[:,l,0],rf[:,l,1],c=\"k\")\n",
    "\n",
    "\tplt.xlim(0,RET_DIM_1)\n",
    "\tplt.ylim(0,RET_DIM_2)\n",
    "\tplt.show()\n",
    "\n",
    "\n",
    "def update_lattice(val):\n",
    "\t''' Updates lattice plot with the receptive fields at a \n",
    "\tgiven iteration of the model simulation. \n",
    "\n",
    "\tParameters\n",
    "\t----------\n",
    "\tval: Int \n",
    "\t\tValue provided by iteration slider. Iteration to \n",
    "\t\tdisplay lattice plot. \n",
    "\t'''\n",
    "\n",
    "\tval = int(val/FRAME_RATE)\n",
    "\tplt.axes().set_aspect('equal')\n",
    "\tplt.xlabel('Nasal-Temporal Position')\n",
    "\tplt.ylabel('Dorsal-Vental Position')\n",
    "\tplot_iteration(val)\n",
    "\n",
    "\n",
    "def plot_lattice(rfs):\n",
    "\t''' Sets up figure and iteration slider for receptive \n",
    "\tfield lattice plot. \n",
    "\n",
    "\tParameters\n",
    "\t----------\n",
    "\trfs: 4D Array\n",
    "\t\tReceptive field coordinates of each tectal neuron at various\n",
    "\t\titerations of the simulation.  \n",
    "\t'''\n",
    "\n",
    "\tglobal rec_fields\n",
    "\trec_fields = rfs\n",
    "\n",
    "\tfig = plt.figure()\n",
    "\tplt.xlim(0,RET_DIM_1)\n",
    "\tplt.ylim(0,RET_DIM_2)\n",
    "\n",
    "\tinteract(update_lattice,val=IntSlider(min=0,\n",
    "\tmax=(len(rec_fields[:,0,0,0])-1)*FRAME_RATE-1,\n",
    "\tstep=1,description=\"Iteration: \"))"
   ]
  },
  {
   "cell_type": "code",
   "execution_count": 31,
   "metadata": {},
   "outputs": [
    {
     "data": {
      "application/vnd.jupyter.widget-view+json": {
       "model_id": "98ee6d19f34f4c0c94b56d4043ff7bbe",
       "version_major": 2,
       "version_minor": 0
      },
      "text/plain": [
       "A Jupyter Widget"
      ]
     },
     "metadata": {},
     "output_type": "display_data"
    }
   ],
   "source": [
    "plot_lattice(rec_fields)"
   ]
  },
  {
   "cell_type": "code",
   "execution_count": null,
   "metadata": {
    "collapsed": true
   },
   "outputs": [],
   "source": []
  },
  {
   "cell_type": "code",
   "execution_count": null,
   "metadata": {
    "collapsed": true
   },
   "outputs": [],
   "source": []
  }
 ],
 "metadata": {
  "kernelspec": {
   "display_name": "Python 3",
   "language": "python",
   "name": "python3"
  },
  "language_info": {
   "codemirror_mode": {
    "name": "ipython",
    "version": 3
   },
   "file_extension": ".py",
   "mimetype": "text/x-python",
   "name": "python",
   "nbconvert_exporter": "python",
   "pygments_lexer": "ipython3",
   "version": "3.5.1"
  }
 },
 "nbformat": 4,
 "nbformat_minor": 2
}
